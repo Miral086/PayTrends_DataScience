{
 "cells": [
  {
   "cell_type": "code",
   "execution_count": 1,
   "id": "e057e95f",
   "metadata": {},
   "outputs": [],
   "source": [
    "import pandas as pd\n",
    "import matplotlib.pyplot as plt\n",
    "import seaborn as sns"
   ]
  },
  {
   "cell_type": "code",
   "execution_count": 2,
   "id": "6492be5a",
   "metadata": {},
   "outputs": [],
   "source": [
    "df = pd.read_csv('cleaned.csv')"
   ]
  },
  {
   "cell_type": "code",
   "execution_count": 3,
   "id": "cd07e9fc",
   "metadata": {},
   "outputs": [
    {
     "data": {
      "text/html": [
       "<div>\n",
       "<style scoped>\n",
       "    .dataframe tbody tr th:only-of-type {\n",
       "        vertical-align: middle;\n",
       "    }\n",
       "\n",
       "    .dataframe tbody tr th {\n",
       "        vertical-align: top;\n",
       "    }\n",
       "\n",
       "    .dataframe thead th {\n",
       "        text-align: right;\n",
       "    }\n",
       "</style>\n",
       "<table border=\"1\" class=\"dataframe\">\n",
       "  <thead>\n",
       "    <tr style=\"text-align: right;\">\n",
       "      <th></th>\n",
       "      <th>Job Title</th>\n",
       "      <th>Salary Estimate</th>\n",
       "      <th>Job Description</th>\n",
       "      <th>Rating</th>\n",
       "      <th>Company Name</th>\n",
       "      <th>Location</th>\n",
       "      <th>Size</th>\n",
       "      <th>Founded</th>\n",
       "      <th>Type of ownership</th>\n",
       "      <th>Industry</th>\n",
       "      <th>...</th>\n",
       "      <th>nosql</th>\n",
       "      <th>javasript</th>\n",
       "      <th>css</th>\n",
       "      <th>azure</th>\n",
       "      <th>hadoop</th>\n",
       "      <th>mlops</th>\n",
       "      <th>flask</th>\n",
       "      <th>django</th>\n",
       "      <th>apache</th>\n",
       "      <th>data_mining</th>\n",
       "    </tr>\n",
       "  </thead>\n",
       "  <tbody>\n",
       "    <tr>\n",
       "      <th>0</th>\n",
       "      <td>Risk Advisory Data Analytics Analyst</td>\n",
       "      <td>₹4L - ₹5L (Glassdoor Est.)</td>\n",
       "      <td>job description\\n\\n\\n\\nwe are looking for cand...</td>\n",
       "      <td>4.0</td>\n",
       "      <td>KPMG\\n4.0</td>\n",
       "      <td>Bengaluru</td>\n",
       "      <td>10000+ Employees</td>\n",
       "      <td>1987</td>\n",
       "      <td>Company - Private</td>\n",
       "      <td>Business Consulting</td>\n",
       "      <td>...</td>\n",
       "      <td>0</td>\n",
       "      <td>0</td>\n",
       "      <td>0</td>\n",
       "      <td>0</td>\n",
       "      <td>0</td>\n",
       "      <td>0</td>\n",
       "      <td>0</td>\n",
       "      <td>0</td>\n",
       "      <td>0</td>\n",
       "      <td>0</td>\n",
       "    </tr>\n",
       "    <tr>\n",
       "      <th>1</th>\n",
       "      <td>Data Analyst</td>\n",
       "      <td>₹3L - ₹3L (Glassdoor Est.)</td>\n",
       "      <td>job description\\n\\n\\nabout satsure\\n\\nsatsure ...</td>\n",
       "      <td>4.5</td>\n",
       "      <td>SatSure Analytics India\\n4.5</td>\n",
       "      <td>Bengaluru</td>\n",
       "      <td>51 to 200 Employees</td>\n",
       "      <td>2017</td>\n",
       "      <td>Company - Private</td>\n",
       "      <td>Aerospace &amp; Defence</td>\n",
       "      <td>...</td>\n",
       "      <td>0</td>\n",
       "      <td>0</td>\n",
       "      <td>0</td>\n",
       "      <td>0</td>\n",
       "      <td>0</td>\n",
       "      <td>0</td>\n",
       "      <td>0</td>\n",
       "      <td>0</td>\n",
       "      <td>0</td>\n",
       "      <td>1</td>\n",
       "    </tr>\n",
       "    <tr>\n",
       "      <th>2</th>\n",
       "      <td>Data Analyst</td>\n",
       "      <td>₹7L - ₹7L (Glassdoor Est.)</td>\n",
       "      <td>target is an iconic brand a fortune  company a...</td>\n",
       "      <td>4.3</td>\n",
       "      <td>TARGET\\n4.3</td>\n",
       "      <td>Bengaluru</td>\n",
       "      <td>1001 to 5000 Employees</td>\n",
       "      <td>1962</td>\n",
       "      <td>Company - Public</td>\n",
       "      <td>General Merchandise &amp; Superstores</td>\n",
       "      <td>...</td>\n",
       "      <td>0</td>\n",
       "      <td>0</td>\n",
       "      <td>0</td>\n",
       "      <td>0</td>\n",
       "      <td>0</td>\n",
       "      <td>0</td>\n",
       "      <td>0</td>\n",
       "      <td>0</td>\n",
       "      <td>0</td>\n",
       "      <td>0</td>\n",
       "    </tr>\n",
       "    <tr>\n",
       "      <th>3</th>\n",
       "      <td>Data Analyst</td>\n",
       "      <td>₹5L - ₹10L (Glassdoor Est.)</td>\n",
       "      <td>about saltmine\\n\\n\\n\\n\\nsaltmine is a rapidly ...</td>\n",
       "      <td>4.9</td>\n",
       "      <td>Saltmine\\n4.9</td>\n",
       "      <td>Bengaluru</td>\n",
       "      <td>51 to 200 Employees</td>\n",
       "      <td>2017</td>\n",
       "      <td>Company - Private</td>\n",
       "      <td>Architectural &amp; Engineering Services</td>\n",
       "      <td>...</td>\n",
       "      <td>0</td>\n",
       "      <td>0</td>\n",
       "      <td>0</td>\n",
       "      <td>0</td>\n",
       "      <td>0</td>\n",
       "      <td>0</td>\n",
       "      <td>0</td>\n",
       "      <td>0</td>\n",
       "      <td>0</td>\n",
       "      <td>0</td>\n",
       "    </tr>\n",
       "    <tr>\n",
       "      <th>4</th>\n",
       "      <td>Data Analyst</td>\n",
       "      <td>₹5L - ₹8L (Glassdoor Est.)</td>\n",
       "      <td>aufgaben\\n\\neducation mastersbachelors in comp...</td>\n",
       "      <td>4.0</td>\n",
       "      <td>Mercedes-Benz Research and Development India P...</td>\n",
       "      <td>Bengaluru</td>\n",
       "      <td>5001 to 10000 Employees</td>\n",
       "      <td>1996</td>\n",
       "      <td>Company - Private</td>\n",
       "      <td>Information Technology Support Services</td>\n",
       "      <td>...</td>\n",
       "      <td>0</td>\n",
       "      <td>0</td>\n",
       "      <td>0</td>\n",
       "      <td>0</td>\n",
       "      <td>0</td>\n",
       "      <td>0</td>\n",
       "      <td>0</td>\n",
       "      <td>0</td>\n",
       "      <td>0</td>\n",
       "      <td>0</td>\n",
       "    </tr>\n",
       "  </tbody>\n",
       "</table>\n",
       "<p>5 rows × 43 columns</p>\n",
       "</div>"
      ],
      "text/plain": [
       "                              Job Title              Salary Estimate  \\\n",
       "0  Risk Advisory Data Analytics Analyst   ₹4L - ₹5L (Glassdoor Est.)   \n",
       "1                          Data Analyst   ₹3L - ₹3L (Glassdoor Est.)   \n",
       "2                          Data Analyst   ₹7L - ₹7L (Glassdoor Est.)   \n",
       "3                          Data Analyst  ₹5L - ₹10L (Glassdoor Est.)   \n",
       "4                          Data Analyst   ₹5L - ₹8L (Glassdoor Est.)   \n",
       "\n",
       "                                     Job Description  Rating  \\\n",
       "0  job description\\n\\n\\n\\nwe are looking for cand...     4.0   \n",
       "1  job description\\n\\n\\nabout satsure\\n\\nsatsure ...     4.5   \n",
       "2  target is an iconic brand a fortune  company a...     4.3   \n",
       "3  about saltmine\\n\\n\\n\\n\\nsaltmine is a rapidly ...     4.9   \n",
       "4  aufgaben\\n\\neducation mastersbachelors in comp...     4.0   \n",
       "\n",
       "                                        Company Name   Location  \\\n",
       "0                                          KPMG\\n4.0  Bengaluru   \n",
       "1                       SatSure Analytics India\\n4.5  Bengaluru   \n",
       "2                                        TARGET\\n4.3  Bengaluru   \n",
       "3                                      Saltmine\\n4.9  Bengaluru   \n",
       "4  Mercedes-Benz Research and Development India P...  Bengaluru   \n",
       "\n",
       "                      Size  Founded  Type of ownership  \\\n",
       "0         10000+ Employees     1987  Company - Private   \n",
       "1      51 to 200 Employees     2017  Company - Private   \n",
       "2   1001 to 5000 Employees     1962   Company - Public   \n",
       "3      51 to 200 Employees     2017  Company - Private   \n",
       "4  5001 to 10000 Employees     1996  Company - Private   \n",
       "\n",
       "                                  Industry  ... nosql javasript  css  azure  \\\n",
       "0                      Business Consulting  ...     0         0    0      0   \n",
       "1                      Aerospace & Defence  ...     0         0    0      0   \n",
       "2        General Merchandise & Superstores  ...     0         0    0      0   \n",
       "3     Architectural & Engineering Services  ...     0         0    0      0   \n",
       "4  Information Technology Support Services  ...     0         0    0      0   \n",
       "\n",
       "   hadoop  mlops  flask django  apache  data_mining  \n",
       "0       0      0      0      0       0            0  \n",
       "1       0      0      0      0       0            1  \n",
       "2       0      0      0      0       0            0  \n",
       "3       0      0      0      0       0            0  \n",
       "4       0      0      0      0       0            0  \n",
       "\n",
       "[5 rows x 43 columns]"
      ]
     },
     "execution_count": 3,
     "metadata": {},
     "output_type": "execute_result"
    }
   ],
   "source": [
    "df.head()"
   ]
  },
  {
   "cell_type": "code",
   "execution_count": 4,
   "id": "b861a92d",
   "metadata": {},
   "outputs": [
    {
     "data": {
      "text/plain": [
       "'job description\\n\\n\\nabout satsure\\n\\nsatsure is a deep tech decision intelligence company that works primarily at the nexus of agriculture infrastructure and climate action creating an impact for the other millions focusing on the developing world we want to make insights from earth observation data accessible to all\\n\\nwe are looking for a talented data analyst to join our team the ideal candidate should have experience in business intelligence tools like tableau and a strong passion for working with data to drive business decisions as a data analyst you will be responsible for analyzing large sets of data creating reports providing actionable insights and ensuring data quality\\n\\nif you are interested in working in an environment that focuses on the impact on society driven by cuttingedge technology and where you will have the freedom to work on innovative ideas and be creative with no hierarchies satsure is the place for you\\n\\nroles and responsibilities\\n\\ndata analysis analyze large and complex data sets to identify trends patterns and insights utilize statistical techniques and data mining methods to extract meaningful information from structured and unstructured data\\n\\ndashboard development develop interactive and visually appealing dashboards using tableau to effectively represent data and facilitate datadriven decisionmaking across the organization ensure dashboards are userfriendly accessible and meet business requirements\\n\\nreport generation design and create comprehensive reports that summarize data analysis findings key metrics and actionable recommendations present datadriven insights to stakeholders in a clear and concise manner\\n\\ndata visualization utilize tableaus advanced features to create visually compelling charts graphs and maps that effectively communicate complex data to diverse audiences apply best practices in data visualization to ensure clarity and accuracy\\n\\ndata quality assurance ensure the accuracy completeness and integrity of data used in analysis and reporting conduct data validation and reconciliation processes to identify and resolve data inconsistencies or errors\\n\\nstakeholder collaboration collaborate with crossfunctional teams including business stakeholders data engineers and data scientists to understand business requirements data needs and project objectives translate business questions into data analysis tasks and deliver actionable insights\\n\\nrequirements\\n\\nexperience\\n\\n years of working experience as data analyst with a strong focus on tableau and power bi\\n\\nstrong analytical and problemsolving skills with a keen attention to detail\\n\\nproficient in sql and excel with the ability to write complex queries\\n\\nability to work independently and in a team environment\\n\\neducation qualification\\n\\nthe ideal candidate would be from a mathematics statistics computer science or a related discipline with\\n\\nbenefits\\n\\nwhy us\\n\\nopportunity to work on a unique and futuristic technology setup\\n\\nflat organizational structure and accessibility\\n\\nbest in class leave policy\\n\\nadditional allowances for learning skill development broadband medical insurance cover etc\\n\\n\\ndepartment name\\n\\n\\nstrategy\\n\\nindustry\\n\\n\\nbusiness management\\n\\ncity\\n\\n\\nbangalore\\n\\nstateprovince\\n\\n\\nkarnataka\\n\\ncountry\\n\\n\\nindia\\n\\nzippostal code'"
      ]
     },
     "execution_count": 4,
     "metadata": {},
     "output_type": "execute_result"
    }
   ],
   "source": [
    "df['Job Description'][1]"
   ]
  },
  {
   "cell_type": "code",
   "execution_count": 5,
   "id": "33bb4553",
   "metadata": {},
   "outputs": [
    {
     "data": {
      "text/plain": [
       "array(['Risk Advisory Data Analytics Analyst', 'Data Analyst',\n",
       "       'Data Analytics - Analyst', 'Client Data Analyst',\n",
       "       'Data Analyst, VP', 'Data Analyst & Scientist',\n",
       "       'Business Operations Analyst Bangalore, Karnataka',\n",
       "       'Data Management Analyst', 'Reporting Data Analyst',\n",
       "       'eCommerce - Data Analyst', 'Business Analyst',\n",
       "       'Product/Data Analyst', 'Data Support Analyst', 'HR Data Analyst',\n",
       "       'Senior Product Analyst', 'Analyst',\n",
       "       'Know Your Customer - Client Data Analyst',\n",
       "       'GFCCP Technology Analyst', 'Data Informatics Analyst',\n",
       "       'Data Analyst - Consumer Analytics', 'MIS & Data Analytics',\n",
       "       'QM : Data Analytics',\n",
       "       'Data Analyst - Member of Technical Staff Bangalore, Karnataka',\n",
       "       'Data Analyst, BLR, Grp 4.4', 'Data Analyst-Python,Panda',\n",
       "       'Data Analyst- Card Acquisition', 'Data Analyst - R&D',\n",
       "       'Product Analyst', 'Data Analytics Associate- Card Acquisition',\n",
       "       'Business Operations Analyst',\n",
       "       'Cyber R&R - Data Analytics - Associate - HYD/BLR/KOL',\n",
       "       'Analyst, Modeling & Forecasting', 'Data Analytics - Associate',\n",
       "       'Data Analysis', 'Data Analyst 2',\n",
       "       'Reporting Data Analyst, Product Support | Concur',\n",
       "       'Advisory-Consulting-Data Analytics-Associate 2-Bangalore',\n",
       "       'Business Analyst, ABA', 'Business Intelligence Analyst',\n",
       "       'Business Analysis - Business Data Modelling - Associate',\n",
       "       'Data Analyst - Associate 2 - P&T Labs',\n",
       "       'Business Intelligence Advisor',\n",
       "       'Business Analyst - Risk assessment',\n",
       "       'Data Research Analyst / Associate', 'Endurance Data Analysis',\n",
       "       'Analyst & Sr Analyst Category',\n",
       "       'Analyst - Business Consulting Risk - TMT - Internal Audit - Bangalore',\n",
       "       'Asset Management - ESG Business Analysis and Reporting Specialist - Analyst',\n",
       "       'Forecasting Analyst/ Data Scientist', 'Product Support Analyst',\n",
       "       'Data Research Analyst', 'Business Intelligence Reporting Analyst',\n",
       "       'CIB - AIS - HFS Data Analytics - Associate - Bangalore',\n",
       "       'Treasury Analyst',\n",
       "       'Risk Advisory Asset Liability Management Analyst',\n",
       "       'Risk Advisory Data Analytics Senior',\n",
       "       'Healthcare Research & Data Analyst',\n",
       "       'Assistant Manager - Business Analyst (Risk Management)',\n",
       "       'Sr Data Scientist, Product Analytics', 'DATA ANALYST',\n",
       "       'Data Analytics',\n",
       "       'Analyst - Tax - TMT - Global Compliance & Reporting - Bangalore',\n",
       "       'Data Scientist - Product Analytics', 'Quant Researcher',\n",
       "       'Data Scientist', 'Data Scientist - Engineer', 'Data Scientist 1',\n",
       "       'Data Science', 'Marketing Data Scientist',\n",
       "       'Junior Data Scientist/', 'Data Scientist/ Analyst - T9',\n",
       "       'Associate Data Science', 'Data Scientist – (LLM/GPT)',\n",
       "       'Feasibility Data Scientist', 'ML Engineer',\n",
       "       'Trainee Conversion - Machine Learning Engineer',\n",
       "       'Data and Analytics Engineer',\n",
       "       'Data Science Engineer (0 - 1 Year Experience)',\n",
       "       'Machine Learning Internship', 'Applied Scientist - Cleartrip',\n",
       "       'Camera Algorithm Development (Deep Learning for AD) - Engineer',\n",
       "       'AI-ML Engineer', 'Machine Learning Engineer',\n",
       "       'Machine learning instructor',\n",
       "       'Computer Vision & Machine Learning Researcher',\n",
       "       'Engineer - Data Science (DATA SCIENCE ENGINEER)',\n",
       "       'AI/ML Engineers',\n",
       "       'Data Science Open Positions Across Levels and Experience',\n",
       "       'AI / ML Engineer', 'Fraud Risk Data Science Associate',\n",
       "       'AI/ML Engineer', 'AI & ML Engineer', 'AI/ML ENGINEER',\n",
       "       'Computer Vision Research/ Platform Engineer - Machine Learning',\n",
       "       'Data Analytics / Machine Learning Engineers',\n",
       "       'Deep Learning Researcher', 'Analytics & Data Science',\n",
       "       'Generative AI - ML Engineers',\n",
       "       'Deep Learning/Computer Vision Engineers', 'AI / Computer vision',\n",
       "       'Deep Learning Engineers',\n",
       "       'Researcher/Senior Researcher – Natural Language Processing and Text Analytics',\n",
       "       'Deep Learning with Computer Vision',\n",
       "       'Trainer (Offline) - AI Machine Learning',\n",
       "       'Camera Algorithm Development (Deep Learning for AD) - Senior Engineer',\n",
       "       'Computer Vision Researcher',\n",
       "       'Computer Vision/Deep Learning Research Scientist',\n",
       "       'Senior Computer Vision & Deep Learning Engineer',\n",
       "       'Senior Consultant Data Scientist',\n",
       "       'Analyst, Data Management & Quantitative Analysis',\n",
       "       'Business Analyst Trainee',\n",
       "       'Analyst, Client Reporting/Performance', 'Data Analyst-Researcher',\n",
       "       'TRAINEE – DATA ANALYST', 'Regipnal Product Line Analyst',\n",
       "       'Behavioural Data Analyst',\n",
       "       'Data Analyst – Optima - Chennai C10 (R23026906)',\n",
       "       'Salesforce Business Analyst',\n",
       "       'Reporting Analyst, People Insights & Analytics',\n",
       "       'Data Analyst with Tableau', 'Regional Product Line Analyst',\n",
       "       'Data Analyst - Chennai',\n",
       "       'Senior Analyst, Data Management & Quantitative Analysis',\n",
       "       'Power BI Developer',\n",
       "       'Intermediate Representative, Data Management & Quantitative Analysis',\n",
       "       'Financial Quantitative Analyst',\n",
       "       'Celonis & Salesforce Data Analyst', 'Junior Business Analyst',\n",
       "       'Hiring business analysts', 'Business analyst', 'BI Analyst',\n",
       "       'Market Research Analyst', 'Audit Reporting and Analytics Analyst',\n",
       "       'Business analyst - Regulatory reporting',\n",
       "       'Business Analyst, FP&A', 'Markets Data Management Senior Analyst',\n",
       "       'Business Analyst (Immediate)', 'Planning Data Analyst',\n",
       "       'Digital Procurement Analyst, Group Supply Chain & Procurement',\n",
       "       'Data Visualization using Power BI Course Author',\n",
       "       'Business Analyst 4', 'Lead I - Data Analysis',\n",
       "       'Data Visualization using Tableau Course Author',\n",
       "       'Pricing Operations Analyst', 'Sr Business Analyst',\n",
       "       'Data Analytics Senior Associate', 'Pricing Analyst',\n",
       "       'Senior Analyst - Trading Settlements',\n",
       "       'capital market business analyst',\n",
       "       'Group SHE Digital and Data – Safety Reporting Analyst',\n",
       "       'Supply Chain - Analyst - Hewlett Packard',\n",
       "       'Procurement Data Analyst', 'Senior Data Analyst - Analytics',\n",
       "       'Senior Analyst, Regulatory Analysis and Reporting',\n",
       "       'Business Operations Analyst: Innovation',\n",
       "       'Lead Analyst, Data Management & Quantitative Analysis',\n",
       "       'BI Operations Lead', 'Sr. Analyst TSA - WONA Derivatives',\n",
       "       'Lead Analyst, Market Intelligence/Research/Strategy',\n",
       "       'Securities Services and Digital Regulatory - Data Analyst',\n",
       "       'Senior Analyst - Tech Consulting - National - CNS - TC - Data & Analytics - Chennai',\n",
       "       'Senior Data Analyst - T&S',\n",
       "       'Test Data Analyst - Capital Markets - Immediate Joiners',\n",
       "       'Business Intelligence Analyst 4', 'Senior Data Analyst / BI',\n",
       "       'Data Analytics Manager', 'Senior Data Processing Analyst-CDS',\n",
       "       'BPO Business Sys. Analysis Analyst',\n",
       "       'BI Developer - Business Intelligence',\n",
       "       'SE-Developer-Data Analyst (Data Perspective - 3DExperience)',\n",
       "       'SRP Data Analyst - Chennai 3',\n",
       "       'Analyst - Business Consulting Risk - TMT - Risk Assurance - Chennai',\n",
       "       'Client Service Business Senior Analyst',\n",
       "       'Lead Analyst, Market/Client Risk Management',\n",
       "       'Team Lead - Analytics and Data Science',\n",
       "       'Associate Fleet Performance Analyst',\n",
       "       'Risk & Controls Assurance Analyst',\n",
       "       'SR. SPECIALIST, DATA ANALYTICS', 'Lead Business Systems Analyst',\n",
       "       'Senior Quantitative Analyst',\n",
       "       'Lead Business Intelligence Engineer (PowerBI Admin and Developer))',\n",
       "       'Reporting Analyst',\n",
       "       'GFT Data Services - Business Analyst - Chennai - AVP/C12',\n",
       "       'Data Engineer', 'Associate/Senior Associate - Data Science',\n",
       "       'Data Science And Python Developer',\n",
       "       'Senior Specialist, Data Scientist',\n",
       "       'Data Scientist - AI/ML (Phython)', 'Jr Data Scientist',\n",
       "       'Senior Data Scientist', 'Associate Data Scientist - Chennai',\n",
       "       'Data Scientist- Financial Services',\n",
       "       'Machine Learning Engineer 1', 'Data Scientist`',\n",
       "       'Data Scientist - Manager',\n",
       "       'Engineering Services Engineer - Machine Learning',\n",
       "       'Software Engineer (Machine Learning)',\n",
       "       'IT Trainer - Data Science & Analytics',\n",
       "       'OR and Data Science Engineer',\n",
       "       'Machine Learning Engineer, Image Processing',\n",
       "       'Machine Learning Engineer (2-4 years)', 'NLP Data Scientists',\n",
       "       'Risk Analytics - Machine Learning Engineer',\n",
       "       'Computer Vision/Artificial Intelligence Architect',\n",
       "       'Machine Learning Technical Lead',\n",
       "       '2200_ Data Scientist / Lead Data Scientist',\n",
       "       'Machine Learning Developer',\n",
       "       'Senior Analyst, Data Science (R-13734)', 'AI/ML Engineering Lead',\n",
       "       'Data Scientist - IT', 'Manager, Data Science 2',\n",
       "       'Machine Learning Engineer, VP',\n",
       "       'Associate Consultant - Machine learning',\n",
       "       'DVP/AVP - Data Scientist (NLP)', 'Senior Analyst - Data Science',\n",
       "       'Sr.Engineer – IIOT/AI/ML',\n",
       "       'Data Scientist/ Senior Data Scientist',\n",
       "       'NLP Engineer and Data Mining Engineer',\n",
       "       'Business Analyst (NLP/AI Projects)',\n",
       "       'Software Developer - Deep Learning',\n",
       "       'IT Trainer - Data Science with Data Engineering',\n",
       "       'Computer Vision Deep Learning Team Manager',\n",
       "       'Senior AI/ML Engineer', 'IT Trainer- Data science_Python',\n",
       "       'Python and Data Science Engineer (IT Jobs)',\n",
       "       'Deep Learning: Perception', 'Python / Data Science - Architect',\n",
       "       'CIEL/SEL/27508: Data Science',\n",
       "       'Test Automation Developer (Python) - Machine Learning',\n",
       "       'Principal AI/ML Engineer – NLP',\n",
       "       'Senior Engineer (Machine Learning Engineer)',\n",
       "       'Lead Engineer - Deep Learning', 'Business Analysis/Data Science',\n",
       "       'Data Science Lead', 'Machine learning Developer',\n",
       "       'Senior Machine Learning Engineer', 'Lead Data Scientist',\n",
       "       'Machine Learning – Engineer', 'Machine Learning – PE',\n",
       "       'Lead / Sr. ML/AI Engineer',\n",
       "       'Engineer / Sr.Engineer - AWS Analytics',\n",
       "       'Machine learning Engineer in Gurgaon Location!!!!!',\n",
       "       'Data Science Lead (Analytics & BI)', 'BI Consultant',\n",
       "       'CIEL/SEL/26112: Python with Data science',\n",
       "       'Sr Data Scientist- Chenna',\n",
       "       'Senior Engineer – AI (Data Science Focus)', 'Senior ML Engineer',\n",
       "       'Scrum Master', 'Web Research Analyst',\n",
       "       'Research Analyst - Public Sector',\n",
       "       'Consulting- HC- WT: Rewards- Analyst', 'BUSINESS ANALYST',\n",
       "       'Data Analysts - MoRD',\n",
       "       'Senior Research Analyst - Climate & Sustainability',\n",
       "       'Legal Analyst', 'Business System Analyst',\n",
       "       'Analyst - Business Consulting Risk - TMT - Risk - New Delhi',\n",
       "       'Senior Data Analyst',\n",
       "       'Academic Research Consultant, Academic Research Analyst',\n",
       "       'Trainee Marketing KPO Analyst: Lead Sourcing',\n",
       "       'Specialist, Data analytics', 'Cloud Data Analyst (m/f/d)',\n",
       "       'Data and Research Analyst- Global Business Services',\n",
       "       'Analyst - Tech Consulting - National - Data & Analytics - New Delhi',\n",
       "       'Marketing Analyst', 'Product Analyst - Content Management',\n",
       "       'PIM L2 Data Support Analyst',\n",
       "       'Research Analyst – Solar Agriculture', 'IT Senior Data Analyst',\n",
       "       'Research Analyst', 'Media Analyst',\n",
       "       'Trainee - Tech Consulting - National - Data & Analytics - New Delhi',\n",
       "       'Data Analyst AssociateZobello',\n",
       "       'Management Information - Analyst', 'Procurement Analyst',\n",
       "       'Research Analyst I/II',\n",
       "       'Research Analyst/Programme Associate (Energy Transitions)',\n",
       "       'Research Analyst (Equity Cash, Equity Trader)',\n",
       "       'Real Estate Research Analyst at CRE Matrix',\n",
       "       'Research Analyst ( Pharmaceutical)', 'Digital Marketing Analyst',\n",
       "       'BI&A Senior Analyst', 'IT Business Analyst', 'Process Analyst',\n",
       "       'Business Intelligence and MIS', 'Analyst – Business Intelligence',\n",
       "       'Research Analyst (Partner Management and Analytics)',\n",
       "       'Product Analyst - Cases & Materials', 'Business Analyst Holostik',\n",
       "       'Opening for Data Analyst',\n",
       "       'Data Backfill Audit - Data Analyst-Contra -Remote Full-Time',\n",
       "       'Research Analyst - Low Carbon Pathways', 'HR Analyst',\n",
       "       'Business Analyst For Financial Company In Sector-4 Noida',\n",
       "       'Research Analyst (Disaster Economics)',\n",
       "       'Business Analyst (India Remote)', 'Analyst, Viral Hepatitis',\n",
       "       'Data analysis and Steering', \"Founder's Office - Product Analyst\",\n",
       "       'Associate Research Analyst (R-13763)',\n",
       "       'Data Analyst/Associate Analyst', 'MIS Analyst',\n",
       "       'Dy Manager – Data Analyst',\n",
       "       'IT Business & Technical Senior Analyst',\n",
       "       'Business Intelligence Expert',\n",
       "       'Energy Market Analyst - Transmission',\n",
       "       'Programme Associate/Research Analyst – Hydrogen',\n",
       "       'Consulting Analyst', 'Business Intelligence Developer',\n",
       "       'Consultant - Tech Consulting - National - Data & Analytics - New Delhi',\n",
       "       'Business Analyst Cum Project Coordinator',\n",
       "       'Senior Business Analyst', 'Associate QA Analyst', 'BI Developer',\n",
       "       'PRODUCT MANAGEMENT ANALYST',\n",
       "       'Associate Consultant - Tech Consulting - National - Data & Analytics - New Delhi',\n",
       "       'Research and Policy Analyst',\n",
       "       '1Lattice - Research Associate (Quantitative research)',\n",
       "       'CI Analyst - Risk', 'ANALYST',\n",
       "       'Research Analyst/Programme Associate – Scaling up Regenerative Agriculture in India',\n",
       "       'freelance Credit Risk Analyst',\n",
       "       'Research Analyst (Econometrics) - Sustainable Food Systems',\n",
       "       'Product Expansion Analyst',\n",
       "       'Senior Business Intelligence Analyst',\n",
       "       'Digital marketing analyst',\n",
       "       'Risk Analyst – Banking and Financial Services sector',\n",
       "       'Senior Program Research Analyst – Modelling (Energy Program), WRI India',\n",
       "       'CIEL/SEL/23132: Data Analyst', 'SQL Reporting Analyst',\n",
       "       'Officer (Cash And Trade Proc Analyst 1)',\n",
       "       'Business Intelligence Consultant – Qlik',\n",
       "       'Senior Data Science & Analytics Manager',\n",
       "       'Product Analyst - India (Delhi NCR / Mumbai)',\n",
       "       'SEO & Digital Marketing Analyst', 'Financial Analyst',\n",
       "       'SAP SD/MM Business Analyst',\n",
       "       'Business Analyst cum Project Co-ordinator',\n",
       "       'Product Business Analyst',\n",
       "       'Senior Social Insights Analyst (Contract)',\n",
       "       'Merlin / QPS Data Processing Analyst | Research Operations | Noida Area',\n",
       "       'Risk Analyst',\n",
       "       'Data Scientist/Analytics Engineer - Machine Learning/Predictive Modeling',\n",
       "       'Senior Analyst – Contribution Services',\n",
       "       'Technical Business Analyst', 'Business Intelligence Manager',\n",
       "       'Manager – Data Analytics – BFSI', 'System Admin/ IT Analyst',\n",
       "       'Digital Supply Chain Analyst (Oracle SCM)',\n",
       "       'Business Analyst- Finance', 'Data Analyst/MIS',\n",
       "       'BI & ANALYTICS SR CONSULTANT', 'Analyst, India',\n",
       "       'Data Scientist-4', 'Data Scientist, Growth and Data Products',\n",
       "       'AI Software developer', 'Sr. Data Scientist – AI ML',\n",
       "       'Senior Python AI/ML Engineer', 'Data Science Trainer',\n",
       "       'AI & ML Instructor', 'Senior Python Developer/ Data Scientist',\n",
       "       'Data Scientists', 'Associate Data Scientist',\n",
       "       'Team Lead- Data Science', 'Data Science & Analytic',\n",
       "       'Data Science Engineer',\n",
       "       'Consulting _ SAMA _ Data Science _ Con & SC',\n",
       "       'Associate Machine Learning Scientist',\n",
       "       'Artificial Intelligence Developer',\n",
       "       'AI/ML Data Scientist (Telecoms)', 'DATA SCIENTIST',\n",
       "       'Data Science AI ML NLP Engineers', 'Big Data Engineer',\n",
       "       'MACHINE LEARNING RESEARCHER(COMPUTER VISION)',\n",
       "       'MACHINE LEARNING RESEARCHER (NLP)',\n",
       "       'Data/Machine Learning Engineer', 'Sr. Data Scientist',\n",
       "       'AI & Machine Learning expert',\n",
       "       'Data Science AI ML NLP Consultant',\n",
       "       'Artificial Intelligence Manager',\n",
       "       'Specialist, Applied Data Science', 'Sr. Data Scientist (NLP)',\n",
       "       'Machine Learning: NLP', 'MACHINE LEARNING SCIENTIST (HEALTHCARE)',\n",
       "       'LEAD DATA SCIENTIST', 'Technical Lead (AI/ML/NLP)',\n",
       "       'Big Data Developer',\n",
       "       'Machine Learning Ops Engineer (Work From Home)',\n",
       "       'Sr. Data Scientist (NLP & Computer Vision)',\n",
       "       'Data Science AI ML NLP Trainers',\n",
       "       'Senior Consultant | CF- Delta | Analytics | India',\n",
       "       'DS-DATA-SCIENCE',\n",
       "       'Architect : Big Data (Digital Natives / Enterprise)',\n",
       "       'Sr Solutions Architect - Big Data / AI',\n",
       "       'CIEL/SEL/23064: Machine Learning', 'Business Analyst (WFH)',\n",
       "       'Data Analytics Engineer', 'Analyst, Modelling',\n",
       "       'Junior Research Analyst - ESG', 'Data Science Analyst',\n",
       "       'Promo Analyst', 'Junior Research Analyst', 'Jr. Business Analyst',\n",
       "       'FP&A Analyst', 'Data Analyst - PowerBI', 'Strategy Analyst',\n",
       "       'Data entry analyst – Part time', 'Operations Analyst',\n",
       "       'Vibration analyst', 'Data Analyst Specialist',\n",
       "       'Data Quality Analyst', 'Business Analyst-Lead',\n",
       "       'Analyst - Finance', 'DATA RESEARCH ANALYST/WEB RESEARCH ANALYST',\n",
       "       'Opening for Data analyst',\n",
       "       'Data Analyst, Data/Content Management',\n",
       "       'Ecommerce Product Research Analyst', 'Fraud Prevention Analyst',\n",
       "       'MIS/Data Analyst', 'Urgent Required Research Analyst',\n",
       "       'Quant / Research Analyst', 'Real Time Analyst',\n",
       "       'Associate Trainee, Data Analytics',\n",
       "       'Hiring Data Analyst in Gems& jewellery industry',\n",
       "       'Data Analysts/HTML Editor', 'Product Analyst/Business Analyst',\n",
       "       'Data Analyst / MIS',\n",
       "       'Data Analysts/HTML Editor (Job Code DA) Apply Now',\n",
       "       'Research Associate / Sr. Research Associate - Bioinformatics (NGS Data Analysis) ',\n",
       "       'Sr. Business Analyst', 'Agile Business Analyst',\n",
       "       'Sr. Data Analyst/Power BI Developer',\n",
       "       'CIEL/SEL/23721: Supply Chain Analyst - Work from home',\n",
       "       'Digital Industrial Engineering - Business Analyst', 'Power BI',\n",
       "       'Senior Data Quality Analyst - ESG', 'Sr. Forecasting Analyst',\n",
       "       'Senior Research Analyst', 'Quantitative Researcher',\n",
       "       'Insurance Data Analyst', 'Senior Analyst, Supply Chain Planning',\n",
       "       'CIEL/SEL/20970: Data Analyst', 'Big Data Analyst',\n",
       "       'Analyst – Financial Planning & Analysis', 'Quality Analyst',\n",
       "       'Technical Project Manager (BI and Data Analytics)',\n",
       "       'Senior Pricing Analyst, Pricing & Packaging',\n",
       "       'Business Analyst with digital Marketing skills',\n",
       "       'Sr. MS BI Developer',\n",
       "       'AVP - Data operations & Automation/ AVP - Advanced Analytics & BI',\n",
       "       'Business Analyst cum Project Co-Ordinator',\n",
       "       'Lead Business Analyst', 'Python with Computer Vision',\n",
       "       'Executive Data Science', 'Research Associate Data Science',\n",
       "       'MACHINE LEARNING ENGINEER ( AI )',\n",
       "       'GIS Developers- Machine learning (Data Scientist)',\n",
       "       'Machine Learning Engineer | SNDK CORP', 'AI/ML Developer',\n",
       "       'DATA SCIENCE LEAD', 'Sr. AI/ML Developer', 'Senior Statistician',\n",
       "       'Software Engineer- Machine Learning Backend',\n",
       "       'Data Science Lead / Manager', 'Digital Product Analyst',\n",
       "       'PMO - Analyst', 'Analyst - Business Analytics',\n",
       "       'Power BI Developer/ BI Analyst',\n",
       "       'Business Analyst - Data Analyst', 'Data Analyst (Remote)',\n",
       "       'Research Analyst for US Staffing', 'Analyst - Data Science',\n",
       "       'Analyst - Data and Analytics', 'Data Analyst - CRM',\n",
       "       'Data Analyst - HR Analytics', 'Data Analyst Level 2',\n",
       "       'Data Management - Analyst', 'Associate Analyst - BI',\n",
       "       'Jr Data Analyst | Jr Data Scientist',\n",
       "       'Business Analyst - Data Analytics',\n",
       "       'Analyst - Supply Chain Resiliency/Product Lifecycle Management',\n",
       "       'Analyst - AU MCBD - Reporting & Efficiencies',\n",
       "       'Bioinformatics Analyst', 'Power BI Consultant/Data analyst',\n",
       "       'Analyst - Supply Chain Planning',\n",
       "       'Senior Analyst - Data and Analytics', 'Data Engineering Analyst',\n",
       "       'Data Analyst - Senior Associate 2',\n",
       "       'Data Analyst, Model Risk Management',\n",
       "       'Analyst - Global Mobility USI Reporting & Analytics (HYD)',\n",
       "       'Data Analyst (ONSITE – EUROPE)', 'Netsuit Business Analyst',\n",
       "       'Senior Analyst - Supply Chain Planning',\n",
       "       'Senior Analyst - Supply Chain Resiliency/Product Lifecycle Management',\n",
       "       'Business Analyst(SCM)', 'Analyst - Learning Reporting- Hyderabad',\n",
       "       'Analyst – Visual Analytics', 'Business Analyst - MIS & Reporting',\n",
       "       'Social Media Analyst',\n",
       "       'Data Management Senior Associate - Analytics & Automation',\n",
       "       'Senior Associate - Data Analyst',\n",
       "       'Data Analyst - Advanced Analytics', 'Inside Sales Analyst',\n",
       "       'Business Analyst - PowerApp automate Developer',\n",
       "       'Lead Data Analyst', 'Business Data Analyst',\n",
       "       'Analyst - Business Consulting Risk - TMT - Risk - Hyderabad',\n",
       "       'NLP Analyst', 'CIEL/SEL/23990: Data Analyst', 'Data Analyst III',\n",
       "       'Associate Analyst, Delivery',\n",
       "       'Business Analyst |Min Exp-4 yrs|Salary upto-10 LA|Hyderabad',\n",
       "       'Data Scientist - Advanced Analytics', 'Business Analysts',\n",
       "       'Business Analyst I, Buyer Abuse Prevention - Analytics',\n",
       "       'RHub-Data Reporting-Senior Analyst_Tableau_Power BI',\n",
       "       'Manager, Data Reporting & Analytics',\n",
       "       'Senior Consultant-Business Analyst',\n",
       "       'Technical Business Analyst Capital Market',\n",
       "       'Reporting & Data Analyst', 'Proposal Specialist - Senior Analyst',\n",
       "       'Power BI Consultant',\n",
       "       'Analyst - Business Consulting Risk - TMT - Risk Assurance - Hyderabad 1',\n",
       "       'MS Power BI',\n",
       "       '2200_ Analyst-Investment & Trade Client Services - Reference Data',\n",
       "       'Data Analyst + Python + Power BI + Azure',\n",
       "       'Analyst – Financial Planning and Analysis', 'Analyst, Delivery',\n",
       "       'Market Analyst', 'Financial Analyst 1 - Remote Work',\n",
       "       'Senior Analyst - BI', 'AWS Data Scientist - Remote - 30 Lakhs',\n",
       "       'Junior Data Scientist', 'Full Stack Data Scientist',\n",
       "       'Jr.Data Scientist / ML Engineer',\n",
       "       'Crypto Data Scientist (India Remote)',\n",
       "       'Associate, Data Scientist, Consumer Banking & Core Engine',\n",
       "       'Data Scientist II', 'Applied Engineer, Machine Learning',\n",
       "       'Senior Associate, Data Scientist, Consumer Banking & Core Engine',\n",
       "       'Data & Applied Scientist',\n",
       "       'Java NLP/NLP techniques URGENTLY LOOKING FOR NLP',\n",
       "       'Data Science Leader', 'Machine learning Engineer',\n",
       "       'Computer Vision/Data Science Engineer',\n",
       "       'Python/Machine Learning/Data Science Trainer',\n",
       "       'Data Scientist/Analyst', 'Engineer - Data Science',\n",
       "       'Software Engineer Python, Machine Learning/AI',\n",
       "       '0010_ Data Scientist-ANZ', 'Data Science Engineer (Python Devs)',\n",
       "       'AI Engineer', 'Data Scientist II / Sr. Data Scientist - FinTech',\n",
       "       'DATA & AI Engineer',\n",
       "       'Associate Data Scientist (Fresher ) - Madhapur',\n",
       "       'Machine Learning Algorithm Engineer',\n",
       "       'Data science engineer (Artificial intelligence)',\n",
       "       'Sr SDE-Applied AI / ML Engineer', 'NLP Expert',\n",
       "       'Deep Learning Engineer', 'Offline Trainer - Machine Learning',\n",
       "       'Machine learning engineer',\n",
       "       'Machine Learning (ML) Engineer / Sr. Engineer',\n",
       "       'Senior Engineer - AI/ML/Data Scientist',\n",
       "       'Product Development Engineer II Machine learning',\n",
       "       'Sr Machine Learning Engineer',\n",
       "       'Machine Learning Algorithm Developer',\n",
       "       'Trainer/Faculty – Artificial intelligence | Machine Learning | Deep Learning | QubitAI',\n",
       "       'Data Science Developer (India)',\n",
       "       'Software Engineer In Test - Deep Learning in Computer Vision',\n",
       "       'Machine Learning Expert', 'Sr. Data Scientist - Deep Learning',\n",
       "       'Tier 2-3 Support Engineer, Clinical Pharmaoclogy Data Science',\n",
       "       'Salesforce Developer with AI/Machine Learning Expertise (Remote job)',\n",
       "       'Lead Data Scientist - Machine Learning',\n",
       "       'Machine Learning Compiler Engineer',\n",
       "       'Senior Engineer - Data Science', 'Openings in Machine Learning',\n",
       "       'Data Science Manager',\n",
       "       'Data Science – Developer / Senior Developer',\n",
       "       'Analytics Engineer', 'Lead ML Engineer',\n",
       "       'Sr. Machine Learning Engineer',\n",
       "       'Lead Software Engineer - Machine Learning',\n",
       "       'Analyst Data Science',\n",
       "       'Senior Machine Learning Engineer (Computer Vision)',\n",
       "       'Senior Analyst Data Science',\n",
       "       'Lead ML Engineer_Market Intelligence',\n",
       "       'Lead Developer, Data Science', 'Analytics Developer II',\n",
       "       'Associate/Sr Associate Data Science',\n",
       "       'Software Architect (AI/ML)',\n",
       "       'Subject Matter Expert (SME) – Data Science',\n",
       "       'Machine Learning - TensorFlow, PyTorch',\n",
       "       'Machine Learning Openings in Hyderabad',\n",
       "       'Data Scientist / Sr. Data Scientist', 'Portfolio Analyst',\n",
       "       'Trade Support, Reference Data - Analyst',\n",
       "       'Research Analyst (WFH/Remote)',\n",
       "       'Associate Data Research Analyst (11 Months Contract role)',\n",
       "       'Equity Research Analyst', 'Technology Business Analyst',\n",
       "       'Specialty Product Analyst',\n",
       "       'Regulatory Reporting - Operation Analyst', 'Data Analyst - Cx',\n",
       "       'Reference Data Management - Operations Analyst',\n",
       "       'Business Process Analyst',\n",
       "       'computer faculty (python, data analytics)', 'Junior Data Analyst',\n",
       "       'Indirect Tax - Analyst', 'MIS & Data Analyst',\n",
       "       'Strategic Business Analyst', 'Research Analyst - Valuations',\n",
       "       'OSTC Academy – for Junior Financial Market Analysts',\n",
       "       'Data Analyst(BI)', 'Risk Business Management Analyst',\n",
       "       'Investment Analytics and Research-Analyst',\n",
       "       'Product Analyst, Associate', 'Business Analyst- MIS',\n",
       "       'Consumer Insights & Data Analytics',\n",
       "       'Business Intelligence & Data Engineer',\n",
       "       'Recruitment Data Analyst', 'Hiring-Jr Business Analyst(Remote)',\n",
       "       'Passionate Data Analyst', 'Analyst - Business Intelligence',\n",
       "       'Financial Reporting Analyst',\n",
       "       'Reference Data Management - Index and Benchmark - Analyst',\n",
       "       'CIB Business Support Management - Analyst - Invoice',\n",
       "       'Senior Market Research Analyst (Hospitality)',\n",
       "       'Analyst - Data Analytics',\n",
       "       'Data Science Strategic Analytics- Associate',\n",
       "       'Data Analytics Specialist', 'Fixed Income Junior Analyst',\n",
       "       'Market Risk Analyst', 'Data Analysis - Associate',\n",
       "       'Business Support Analyst', 'Analyst-Industry Research',\n",
       "       'Financial Analyst- FPNA Analyst', 'Finance Support Analyst (ERP)',\n",
       "       'Manager - Data & Analytics', 'MIS Analyst (Accounts)',\n",
       "       'Data Scientist Associate II', 'Data scientist - Lead',\n",
       "       'Asset Management - Data Science - Associate', 'Analytics Manager',\n",
       "       'Supplychain Data Scientist', 'Client Engineering- Data Scientist',\n",
       "       'Data Science with Python', 'NLP Engineer',\n",
       "       'Hiring Artifical Intelligence/ Machine Learning',\n",
       "       'machine learning developer', 'Machine Learning',\n",
       "       'Natural Language Processing Engineer', 'Data Scientist- AI/ML',\n",
       "       'Data Scientist- IT Manager', 'FACULTY FOR DATA SCIENCE',\n",
       "       'ML Engineer I', 'Legal Data Scientist', 'data science trainer',\n",
       "       'Data Scientist - Power BI',\n",
       "       'Python Developer with Machine Learning & Artificial Intelligence Expertise',\n",
       "       'Machine Learning (ML) Engineer', 'NLP Trainer',\n",
       "       'Artificial Intelligence and Machine Learning Developers',\n",
       "       'Faculty - AI and ML', 'Data Scientist/Data Analytics - AVP',\n",
       "       'FACULTY FOR ARTIFICIAL INTELLIGENCE', 'Manager - Data Scientist',\n",
       "       'Engineer - Machine Learning',\n",
       "       'Chatbot, Machine Learning and Artificial Intelligence',\n",
       "       'Manager Analytics', 'Python Developer (Data Science)',\n",
       "       'Operations Manager_ Artificial intelligence (AI)',\n",
       "       'Lead, Artificial Intelligence and Machine Learning',\n",
       "       'Freelance- CS- Data Science', 'Architect - Machine Learning',\n",
       "       'Machine Learning Engineer- II', 'TA- Data Science- Freelancer',\n",
       "       'NLP', 'Software Trainer - Data Science Specialist',\n",
       "       'Manager/Sr.Manager - Data Science and Analytics(Modelling)',\n",
       "       'Manager/ AVP ( Data scientist) - Analytics',\n",
       "       'Data Science Manager Risk',\n",
       "       'Senior Analytics Engineer - Pharma/Life Science Domain',\n",
       "       'Data Science - Expert',\n",
       "       'Senior Research Engineer (Natural Language Processing)',\n",
       "       'Senior Data Scientist - Power BI', 'Data Science Optimization',\n",
       "       'Lead - Machine Learning', 'ESG Data Science Specialist',\n",
       "       'Lead/Senior Associate - Analytics',\n",
       "       'Lead Data Scientist - Python', 'VP Data Science',\n",
       "       'Architect , Field Engineering (Data & AI)',\n",
       "       'Lead Machine Learning', 'Data Analyst , Pune',\n",
       "       'Associate Data Analyst', 'Business Analyst Intern',\n",
       "       'Associate Analyst', 'Analyst - Data & Information Management',\n",
       "       'BI- Data Analytics', 'Analyst - Risk and Compliance',\n",
       "       'Risk & Control Analyst', 'Senior Analyst',\n",
       "       'Data Scientist/ Data Analyst', 'Senior Methods and Data Analyst',\n",
       "       'Quantitative Analyst ( Experience in NSE And BSE Trading Only )',\n",
       "       'MIS Data Analyst', 'Analyst, Data Operations',\n",
       "       'Data Entry Analyst', 'VP - Business Analyst',\n",
       "       'Analyst - Client Reporting', 'Business Analyst II',\n",
       "       'Analyst (DA/PV)', 'Data Science Senior Analyst - C12',\n",
       "       'Product Research Analyst', 'Supply Chain Analyst - Electrical',\n",
       "       'Business Intelligence Operations Support', 'Power BI Analyst',\n",
       "       'Research Analyst - Financial Modeling', 'Research Analyst (CDQA)',\n",
       "       'Analyst, Investor Reporting - PLS',\n",
       "       'Data Analyst For leading NBFC', 'Data Analytics For NBFC',\n",
       "       'QC Analyst', 'Marketing Data and Reporting Analyst',\n",
       "       'Research Analyst(Contact Discovery)', 'CDQA / Research Analyst',\n",
       "       'Materials Mgmt Analyst II', 'Zoho Analyst', 'B2B Data Analyst',\n",
       "       'Analyst - FIS', 'Business Analyst - Wealth Management',\n",
       "       'Data Research Analyst (Contract)', 'Junior Operations Analyst',\n",
       "       'Master Data Management Analyst', 'MDM Analyst',\n",
       "       'Senior Analyst, Client Reporting/Performance',\n",
       "       'Product Owner/Business Analyst', 'Energy Market Analyst (Data)',\n",
       "       'List Builders / Research Analysts',\n",
       "       'Data Analyst - Power BI + Alteryx',\n",
       "       'Job Title – Business Analyst',\n",
       "       'Specialist, Data Management & Quantitative Analysis',\n",
       "       'Associate Specialist- Data Visualization', 'OMS – Data Analyst',\n",
       "       'Senior Analyst - KYC', 'Associate Product Analyst',\n",
       "       'Specialist- Data Visualization',\n",
       "       'Sr. Data Analytics and Reporting',\n",
       "       'LLM Tasker, Contract - Data Analytics',\n",
       "       'Associate - Data Analytics',\n",
       "       'Data Visualization(QLikSense/Tableau/PowerBI)',\n",
       "       'Vacancy for Data Scientist', 'ML/Data Scientist',\n",
       "       'Freelance Data Scientist Trainer', 'AI/ML - Data Scientist',\n",
       "       'Specialist, Data Scientist',\n",
       "       'Data Engineers - BPCS - Data Analytics Competence',\n",
       "       'Data Scientist Jr. & Sr.', 'Machine Learning Engineer - Trainee',\n",
       "       'Machine Learning Engineer / Data Scientist (m/f/d)',\n",
       "       'Engineer I Data Science', 'Data Science - Lead Data Scientist',\n",
       "       'Data Scientist | 4 to 9 years | PAN India',\n",
       "       'AI/Machine Learning Engineer', 'Python/Data Science Developer',\n",
       "       'Software Engineer (AI/ML)', 'Staff ML Engineer',\n",
       "       'Data Science For Leading Security Depository',\n",
       "       'Bioinformatic (Data Scientist) -Variant analyst',\n",
       "       'Python Data Science Trainer',\n",
       "       'Machine Learning Specialist(AI/ML Developer)',\n",
       "       'Senior Data Scientist Consultant (Part-Time)',\n",
       "       'Associate Consultant / Consultant – Data Science',\n",
       "       'Consultant, Data Science and Analytics',\n",
       "       'Data Scientist Architect', 'Jr./ Sr. Machine Learning Developer',\n",
       "       'Machine Learning Engineer - Computer Vision/NLP',\n",
       "       'Senior Member of Technical Staff - Data Scientist Pune, Maharashtra',\n",
       "       'Consultant – Data Science',\n",
       "       'Sr. Analyst, Analytics and Data Science',\n",
       "       'Manager (Data Science) - Workforce Analytics',\n",
       "       'BIG DATA ( ANALYTICS AND DATA SCIENCE ) - BIG DATA - SNOWFLAKE',\n",
       "       'Data Engineer (Python data science libraries)- Contract Staff',\n",
       "       'Lead Data Scientist - Computer Vision',\n",
       "       'Sr Analyst- Data Science and Analytics',\n",
       "       'JOSH.DE Senior Data Scientist',\n",
       "       'Data Science Engineer/ML Engineer - BFSI - Pune',\n",
       "       'Manager - Forecasting Advanced Analytics – Data Science',\n",
       "       'Senior Data Scientists',\n",
       "       'Data Scientist - Graph Analytics (6-9 Years)',\n",
       "       'Sr. Machine Learning Developer',\n",
       "       'Natural Language Processing (NLP) Developer',\n",
       "       'MACHINE LEARNING ENGINEER', 'Manager - Data Science (NLP)',\n",
       "       'BFSI - Data Science - NLP / Computer vision - Pune',\n",
       "       'CIEL/SEL/28116: Data Scientist',\n",
       "       'Sr. Software Engineer - Machine Learning (ML)',\n",
       "       'NLP Engineer/Sr NLP Engineer', 'Associate Manager Data Science',\n",
       "       'Senior Principal, Data Scientist',\n",
       "       'Data Engineer – Smart Building Analytics (6 - 9 years)',\n",
       "       'Product Analytics , Senior Associate',\n",
       "       'Associate Lead BOT/NLP Engineer',\n",
       "       'Data & Analytics Senior Analyst',\n",
       "       'Deputy Manager/ Assistant Manager â€“ Data Science',\n",
       "       'Machine Learning Jobs in Pune',\n",
       "       'Sr. Software Engineer - Machine Learning',\n",
       "       'Lead Analytics Engineer', 'Executive Manager, Data Science',\n",
       "       'Senior Data Science Developer',\n",
       "       'Consultant/Senior Consultant – Data Science',\n",
       "       'Data Scientist Team Lead', 'CIEL/SEL/20947: Machine Learning',\n",
       "       'Data Science Capability Owner', 'NLP ChatBot Developer',\n",
       "       'Senior Data Scientist (NLP Expert) - CTO',\n",
       "       'Senior Software Engineer (AI/ML)',\n",
       "       'Tech Lead/ Associate Architect/ Architect- Artificial Intelligence and Machine Learning.'],\n",
       "      dtype=object)"
      ]
     },
     "execution_count": 5,
     "metadata": {},
     "output_type": "execute_result"
    }
   ],
   "source": [
    "df['Job Title'].unique()"
   ]
  },
  {
   "cell_type": "code",
   "execution_count": 6,
   "id": "8c0bd372",
   "metadata": {},
   "outputs": [
    {
     "data": {
      "text/plain": [
       "array(['Company - Private', 'Company - Public', '-1', 'Unknown',\n",
       "       'Private Practice / Firm', 'Subsidiary or Business Segment',\n",
       "       'Franchise', 'Non-profit Organisation', 'Self-employed',\n",
       "       'Contract', 'College / University', 'Government'], dtype=object)"
      ]
     },
     "execution_count": 6,
     "metadata": {},
     "output_type": "execute_result"
    }
   ],
   "source": [
    "df['Type of ownership'].unique()"
   ]
  },
  {
   "cell_type": "code",
   "execution_count": 7,
   "id": "76724568",
   "metadata": {},
   "outputs": [
    {
     "data": {
      "text/plain": [
       "Company - Private                 683\n",
       "Company - Public                  395\n",
       "-1                                138\n",
       "Private Practice / Firm            25\n",
       "Unknown                            24\n",
       "Non-profit Organisation            18\n",
       "Subsidiary or Business Segment     15\n",
       "Self-employed                       9\n",
       "College / University                9\n",
       "Government                          2\n",
       "Franchise                           1\n",
       "Contract                            1\n",
       "Name: Type of ownership, dtype: int64"
      ]
     },
     "execution_count": 7,
     "metadata": {},
     "output_type": "execute_result"
    }
   ],
   "source": [
    "df['Type of ownership'].value_counts()"
   ]
  },
  {
   "cell_type": "code",
   "execution_count": 8,
   "id": "ef7bd150",
   "metadata": {},
   "outputs": [
    {
     "data": {
      "text/plain": [
       "array(['10000+ Employees', '51 to 200 Employees',\n",
       "       '1001 to 5000 Employees', '5001 to 10000 Employees', '-1',\n",
       "       'Unknown', '501 to 1000 Employees', '201 to 500 Employees',\n",
       "       '1 to 50 Employees'], dtype=object)"
      ]
     },
     "execution_count": 8,
     "metadata": {},
     "output_type": "execute_result"
    }
   ],
   "source": [
    "df['Size'].unique()"
   ]
  },
  {
   "cell_type": "code",
   "execution_count": 9,
   "id": "816eeb74",
   "metadata": {},
   "outputs": [],
   "source": [
    "df['Size'] = df['Size'].apply(lambda x: x.replace('Employees', '').replace('Unknown','-1'))"
   ]
  },
  {
   "cell_type": "code",
   "execution_count": 10,
   "id": "a27a8700",
   "metadata": {},
   "outputs": [
    {
     "data": {
      "text/plain": [
       "array(['$10+ billion (USD)', 'Unknown / Non-Applicable',\n",
       "       '$1 to $5 million (USD)', '$100 to $500 million (USD)',\n",
       "       '$5 to $10 billion (USD)', '-1', '$5 to $25 million (USD)',\n",
       "       '$25 to $50 million (USD)', 'Less than $1 million (USD)',\n",
       "       '$2 to $5 billion (USD)', '$500 million to $1 billion (USD)'],\n",
       "      dtype=object)"
      ]
     },
     "execution_count": 10,
     "metadata": {},
     "output_type": "execute_result"
    }
   ],
   "source": [
    "df['Revenue'].unique()"
   ]
  },
  {
   "cell_type": "code",
   "execution_count": 11,
   "id": "c0ed37b7",
   "metadata": {},
   "outputs": [],
   "source": [
    "df['Revenue'] = df['Revenue'].apply(lambda x: x.replace('Unknown / Non-Applicable' , 'na'))"
   ]
  },
  {
   "cell_type": "code",
   "execution_count": 12,
   "id": "db917ec2",
   "metadata": {},
   "outputs": [],
   "source": [
    "def title_simplifier(title):\n",
    "    if 'data scientist' in title.lower() or 'data science' in title.lower():\n",
    "        return 'data scientist'\n",
    "    elif 'analyst' in title.lower():\n",
    "        return 'analyst'\n",
    "    elif 'data engineer' in title.lower():\n",
    "        return 'data engineer'\n",
    "    elif 'machine learning' in title.lower() or 'ml' in title.lower() or 'nlp' in title.lower()or 'ai' in title.lower() or 'deep learning' in title.lower():\n",
    "        return 'mle'\n",
    "    elif 'manager' in title.lower():\n",
    "        return 'manager'\n",
    "    elif 'director' in title.lower():\n",
    "        return 'director'\n",
    "    else:\n",
    "        return 'na'\n",
    "\n",
    "def type_ownership(column):\n",
    "    if 'private' in column.lower():\n",
    "        return 'private'\n",
    "    elif 'non-profit Organisation' in column.lower():\n",
    "        return 'non-profit organisation'\n",
    "    elif 'government' in column.lower():\n",
    "        return 'government'\n",
    "    elif 'subsidiary' in column.lower():\n",
    "        return 'subsidiary'\n",
    "    elif 'university' in column.lower():\n",
    "        return 'university'\n",
    "    elif 'self-employed' in column.lower():\n",
    "        return 'self-employed'\n",
    "    elif 'contract' in column.lower():\n",
    "        return 'contract'\n",
    "    elif 'public' in column.lower():\n",
    "        return 'public'\n",
    "    else:\n",
    "        return 'na'\n",
    "\n",
    "def seniority(title):\n",
    "    if 'sr' in title.lower() or 'senior' in title.lower() or 'sr.' in title.lower() or 'lead' in title.lower() or 'principal' in title.lower():\n",
    "        return 'senior'\n",
    "    elif 'jr' in title.lower() or 'jr.' in title.lower():\n",
    "        return 'junior'\n",
    "    else:\n",
    "        return 'na'"
   ]
  },
  {
   "cell_type": "code",
   "execution_count": 13,
   "id": "66249cf9",
   "metadata": {},
   "outputs": [],
   "source": [
    "df['Job_simpler'] = df['Job Title'].apply(title_simplifier)"
   ]
  },
  {
   "cell_type": "code",
   "execution_count": 14,
   "id": "832509f3",
   "metadata": {},
   "outputs": [],
   "source": [
    "df['Type of ownership'] = df['Type of ownership'].apply(type_ownership)"
   ]
  },
  {
   "cell_type": "code",
   "execution_count": 15,
   "id": "712f8b01",
   "metadata": {},
   "outputs": [
    {
     "data": {
      "text/plain": [
       "analyst           634\n",
       "data scientist    373\n",
       "mle               197\n",
       "na                100\n",
       "manager            11\n",
       "data engineer       5\n",
       "Name: Job_simpler, dtype: int64"
      ]
     },
     "execution_count": 15,
     "metadata": {},
     "output_type": "execute_result"
    }
   ],
   "source": [
    "df['Job_simpler'].value_counts()"
   ]
  },
  {
   "cell_type": "code",
   "execution_count": 16,
   "id": "56d7f337",
   "metadata": {},
   "outputs": [
    {
     "data": {
      "text/plain": [
       "na        1096\n",
       "senior     218\n",
       "junior       6\n",
       "Name: seniority, dtype: int64"
      ]
     },
     "execution_count": 16,
     "metadata": {},
     "output_type": "execute_result"
    }
   ],
   "source": [
    "df['seniority'] = df['Job Title'].apply(seniority)\n",
    "df['seniority'].value_counts()"
   ]
  },
  {
   "cell_type": "code",
   "execution_count": 17,
   "id": "a40c66f9",
   "metadata": {},
   "outputs": [
    {
     "data": {
      "text/plain": [
       "Pune            230\n",
       "Chennai         208\n",
       "New Delhi       195\n",
       "Hyderābād       195\n",
       "Bengaluru       160\n",
       "Mumbai          157\n",
       "Ahmedabad        84\n",
       "Vadodara         33\n",
       "Surat            14\n",
       "India             9\n",
       "Navi Mumbai       7\n",
       "Rājkot            7\n",
       "Gāndhīnagar       6\n",
       "Thāne             5\n",
       "Secunderābād      2\n",
       "Kalyan            1\n",
       "Bharūch           1\n",
       "Patel Nagar       1\n",
       "Badarpur          1\n",
       "Janakpuri         1\n",
       "Pitampura         1\n",
       "Daryā Ganj        1\n",
       "Haveli            1\n",
       "Name: Location, dtype: int64"
      ]
     },
     "execution_count": 17,
     "metadata": {},
     "output_type": "execute_result"
    }
   ],
   "source": [
    "df['Location'].value_counts()"
   ]
  },
  {
   "cell_type": "code",
   "execution_count": 18,
   "id": "905b3c32",
   "metadata": {},
   "outputs": [
    {
     "data": {
      "text/html": [
       "<div>\n",
       "<style scoped>\n",
       "    .dataframe tbody tr th:only-of-type {\n",
       "        vertical-align: middle;\n",
       "    }\n",
       "\n",
       "    .dataframe tbody tr th {\n",
       "        vertical-align: top;\n",
       "    }\n",
       "\n",
       "    .dataframe thead th {\n",
       "        text-align: right;\n",
       "    }\n",
       "</style>\n",
       "<table border=\"1\" class=\"dataframe\">\n",
       "  <thead>\n",
       "    <tr style=\"text-align: right;\">\n",
       "      <th></th>\n",
       "      <th>Job Title</th>\n",
       "      <th>Salary Estimate</th>\n",
       "      <th>Job Description</th>\n",
       "      <th>Rating</th>\n",
       "      <th>Company Name</th>\n",
       "      <th>Location</th>\n",
       "      <th>Size</th>\n",
       "      <th>Founded</th>\n",
       "      <th>Type of ownership</th>\n",
       "      <th>Industry</th>\n",
       "      <th>...</th>\n",
       "      <th>css</th>\n",
       "      <th>azure</th>\n",
       "      <th>hadoop</th>\n",
       "      <th>mlops</th>\n",
       "      <th>flask</th>\n",
       "      <th>django</th>\n",
       "      <th>apache</th>\n",
       "      <th>data_mining</th>\n",
       "      <th>Job_simpler</th>\n",
       "      <th>seniority</th>\n",
       "    </tr>\n",
       "  </thead>\n",
       "  <tbody>\n",
       "    <tr>\n",
       "      <th>317</th>\n",
       "      <td>Machine Learning Developer</td>\n",
       "      <td>Employer Provided Salary:₹4L - ₹8L</td>\n",
       "      <td>must have\\n years of work experience\\nsolid pr...</td>\n",
       "      <td>4.3</td>\n",
       "      <td>Spritle Software\\n4.3</td>\n",
       "      <td>India</td>\n",
       "      <td>1 to 50</td>\n",
       "      <td>-1</td>\n",
       "      <td>private</td>\n",
       "      <td>Computer Hardware Development</td>\n",
       "      <td>...</td>\n",
       "      <td>0</td>\n",
       "      <td>0</td>\n",
       "      <td>0</td>\n",
       "      <td>0</td>\n",
       "      <td>0</td>\n",
       "      <td>1</td>\n",
       "      <td>0</td>\n",
       "      <td>0</td>\n",
       "      <td>mle</td>\n",
       "      <td>na</td>\n",
       "    </tr>\n",
       "    <tr>\n",
       "      <th>442</th>\n",
       "      <td>HR Analyst</td>\n",
       "      <td>Employer Provided Salary:₹15T - ₹35T</td>\n",
       "      <td>we are looking for a motivated and resultdrive...</td>\n",
       "      <td>-1.0</td>\n",
       "      <td>Hari Om Retail Pvt. Ltd.</td>\n",
       "      <td>India</td>\n",
       "      <td>-1</td>\n",
       "      <td>-1</td>\n",
       "      <td>na</td>\n",
       "      <td>-1</td>\n",
       "      <td>...</td>\n",
       "      <td>0</td>\n",
       "      <td>0</td>\n",
       "      <td>0</td>\n",
       "      <td>0</td>\n",
       "      <td>0</td>\n",
       "      <td>0</td>\n",
       "      <td>0</td>\n",
       "      <td>0</td>\n",
       "      <td>analyst</td>\n",
       "      <td>na</td>\n",
       "    </tr>\n",
       "    <tr>\n",
       "      <th>483</th>\n",
       "      <td>Senior Program Research Analyst – Modelling (E...</td>\n",
       "      <td>Employer Provided Salary:₹11L - ₹13L</td>\n",
       "      <td>senior program research analyst  modelling ene...</td>\n",
       "      <td>3.7</td>\n",
       "      <td>WRI India\\n3.7</td>\n",
       "      <td>India</td>\n",
       "      <td>1001 to 5000</td>\n",
       "      <td>1982</td>\n",
       "      <td>na</td>\n",
       "      <td>Civic, Welfare &amp; Social Services</td>\n",
       "      <td>...</td>\n",
       "      <td>0</td>\n",
       "      <td>0</td>\n",
       "      <td>0</td>\n",
       "      <td>0</td>\n",
       "      <td>0</td>\n",
       "      <td>0</td>\n",
       "      <td>0</td>\n",
       "      <td>0</td>\n",
       "      <td>analyst</td>\n",
       "      <td>senior</td>\n",
       "    </tr>\n",
       "    <tr>\n",
       "      <th>585</th>\n",
       "      <td>FP&amp;A Analyst</td>\n",
       "      <td>Employer Provided Salary:₹8L - ₹10L</td>\n",
       "      <td>fpa analyst is responsible for timely and accu...</td>\n",
       "      <td>-1.0</td>\n",
       "      <td>ARCHER Transnational Systems Pvt Ltd</td>\n",
       "      <td>India</td>\n",
       "      <td>-1</td>\n",
       "      <td>-1</td>\n",
       "      <td>na</td>\n",
       "      <td>-1</td>\n",
       "      <td>...</td>\n",
       "      <td>0</td>\n",
       "      <td>0</td>\n",
       "      <td>0</td>\n",
       "      <td>0</td>\n",
       "      <td>0</td>\n",
       "      <td>0</td>\n",
       "      <td>0</td>\n",
       "      <td>0</td>\n",
       "      <td>analyst</td>\n",
       "      <td>na</td>\n",
       "    </tr>\n",
       "    <tr>\n",
       "      <th>610</th>\n",
       "      <td>Opening for Data analyst</td>\n",
       "      <td>Employer Provided Salary:₹3L - ₹5L</td>\n",
       "      <td>job title\\n\\n\\nopening for data analyst\\n\\n\\n\\...</td>\n",
       "      <td>3.0</td>\n",
       "      <td>Jobuss Resources\\n3.0</td>\n",
       "      <td>India</td>\n",
       "      <td>51 to 200</td>\n",
       "      <td>-1</td>\n",
       "      <td>private</td>\n",
       "      <td>-1</td>\n",
       "      <td>...</td>\n",
       "      <td>0</td>\n",
       "      <td>0</td>\n",
       "      <td>0</td>\n",
       "      <td>0</td>\n",
       "      <td>0</td>\n",
       "      <td>0</td>\n",
       "      <td>0</td>\n",
       "      <td>0</td>\n",
       "      <td>analyst</td>\n",
       "      <td>na</td>\n",
       "    </tr>\n",
       "    <tr>\n",
       "      <th>989</th>\n",
       "      <td>Analytics Manager</td>\n",
       "      <td>Employer Provided Salary:₹9L - ₹13L</td>\n",
       "      <td>educational qualification\\n\\nb tech in compute...</td>\n",
       "      <td>3.4</td>\n",
       "      <td>Larsen &amp; Toubro Limited\\n3.4</td>\n",
       "      <td>India</td>\n",
       "      <td>10000+</td>\n",
       "      <td>2014</td>\n",
       "      <td>public</td>\n",
       "      <td>Information Technology Support Services</td>\n",
       "      <td>...</td>\n",
       "      <td>0</td>\n",
       "      <td>0</td>\n",
       "      <td>0</td>\n",
       "      <td>0</td>\n",
       "      <td>0</td>\n",
       "      <td>0</td>\n",
       "      <td>0</td>\n",
       "      <td>0</td>\n",
       "      <td>manager</td>\n",
       "      <td>na</td>\n",
       "    </tr>\n",
       "    <tr>\n",
       "      <th>1029</th>\n",
       "      <td>Python Developer with Machine Learning &amp; Artif...</td>\n",
       "      <td>Employer Provided Salary:₹4L</td>\n",
       "      <td>we are looking for a python developer who is p...</td>\n",
       "      <td>-1.0</td>\n",
       "      <td>Digital monks</td>\n",
       "      <td>India</td>\n",
       "      <td>-1</td>\n",
       "      <td>-1</td>\n",
       "      <td>na</td>\n",
       "      <td>-1</td>\n",
       "      <td>...</td>\n",
       "      <td>0</td>\n",
       "      <td>1</td>\n",
       "      <td>0</td>\n",
       "      <td>0</td>\n",
       "      <td>0</td>\n",
       "      <td>0</td>\n",
       "      <td>0</td>\n",
       "      <td>0</td>\n",
       "      <td>mle</td>\n",
       "      <td>na</td>\n",
       "    </tr>\n",
       "    <tr>\n",
       "      <th>1097</th>\n",
       "      <td>Market Research Analyst</td>\n",
       "      <td>Employer Provided Salary:₹3L - ₹8L</td>\n",
       "      <td>hours\\n monday  friday up to  some hours outsi...</td>\n",
       "      <td>4.6</td>\n",
       "      <td>Valasys Media\\n4.6</td>\n",
       "      <td>India</td>\n",
       "      <td>1 to 50</td>\n",
       "      <td>2014</td>\n",
       "      <td>private</td>\n",
       "      <td>Advertising &amp; Public Relations</td>\n",
       "      <td>...</td>\n",
       "      <td>0</td>\n",
       "      <td>0</td>\n",
       "      <td>0</td>\n",
       "      <td>0</td>\n",
       "      <td>0</td>\n",
       "      <td>0</td>\n",
       "      <td>0</td>\n",
       "      <td>0</td>\n",
       "      <td>analyst</td>\n",
       "      <td>na</td>\n",
       "    </tr>\n",
       "    <tr>\n",
       "      <th>1104</th>\n",
       "      <td>Research Analyst</td>\n",
       "      <td>Employer Provided Salary:₹14T - ₹18T</td>\n",
       "      <td>job summary\\nconducting market research by usi...</td>\n",
       "      <td>-1.0</td>\n",
       "      <td>KIA Business Solutions Pvt Ltd</td>\n",
       "      <td>India</td>\n",
       "      <td>-1</td>\n",
       "      <td>-1</td>\n",
       "      <td>na</td>\n",
       "      <td>-1</td>\n",
       "      <td>...</td>\n",
       "      <td>0</td>\n",
       "      <td>0</td>\n",
       "      <td>0</td>\n",
       "      <td>0</td>\n",
       "      <td>0</td>\n",
       "      <td>0</td>\n",
       "      <td>0</td>\n",
       "      <td>1</td>\n",
       "      <td>analyst</td>\n",
       "      <td>na</td>\n",
       "    </tr>\n",
       "  </tbody>\n",
       "</table>\n",
       "<p>9 rows × 45 columns</p>\n",
       "</div>"
      ],
      "text/plain": [
       "                                              Job Title  \\\n",
       "317                          Machine Learning Developer   \n",
       "442                                          HR Analyst   \n",
       "483   Senior Program Research Analyst – Modelling (E...   \n",
       "585                                        FP&A Analyst   \n",
       "610                            Opening for Data analyst   \n",
       "989                                   Analytics Manager   \n",
       "1029  Python Developer with Machine Learning & Artif...   \n",
       "1097                            Market Research Analyst   \n",
       "1104                                   Research Analyst   \n",
       "\n",
       "                           Salary Estimate  \\\n",
       "317     Employer Provided Salary:₹4L - ₹8L   \n",
       "442   Employer Provided Salary:₹15T - ₹35T   \n",
       "483   Employer Provided Salary:₹11L - ₹13L   \n",
       "585    Employer Provided Salary:₹8L - ₹10L   \n",
       "610     Employer Provided Salary:₹3L - ₹5L   \n",
       "989    Employer Provided Salary:₹9L - ₹13L   \n",
       "1029          Employer Provided Salary:₹4L   \n",
       "1097    Employer Provided Salary:₹3L - ₹8L   \n",
       "1104  Employer Provided Salary:₹14T - ₹18T   \n",
       "\n",
       "                                        Job Description  Rating  \\\n",
       "317   must have\\n years of work experience\\nsolid pr...     4.3   \n",
       "442   we are looking for a motivated and resultdrive...    -1.0   \n",
       "483   senior program research analyst  modelling ene...     3.7   \n",
       "585   fpa analyst is responsible for timely and accu...    -1.0   \n",
       "610   job title\\n\\n\\nopening for data analyst\\n\\n\\n\\...     3.0   \n",
       "989   educational qualification\\n\\nb tech in compute...     3.4   \n",
       "1029  we are looking for a python developer who is p...    -1.0   \n",
       "1097  hours\\n monday  friday up to  some hours outsi...     4.6   \n",
       "1104  job summary\\nconducting market research by usi...    -1.0   \n",
       "\n",
       "                              Company Name Location           Size  Founded  \\\n",
       "317                  Spritle Software\\n4.3    India       1 to 50        -1   \n",
       "442               Hari Om Retail Pvt. Ltd.    India             -1       -1   \n",
       "483                         WRI India\\n3.7    India  1001 to 5000      1982   \n",
       "585   ARCHER Transnational Systems Pvt Ltd    India             -1       -1   \n",
       "610                  Jobuss Resources\\n3.0    India     51 to 200        -1   \n",
       "989           Larsen & Toubro Limited\\n3.4    India        10000+      2014   \n",
       "1029                         Digital monks    India             -1       -1   \n",
       "1097                    Valasys Media\\n4.6    India       1 to 50      2014   \n",
       "1104        KIA Business Solutions Pvt Ltd    India             -1       -1   \n",
       "\n",
       "     Type of ownership                                 Industry  ... css  \\\n",
       "317            private            Computer Hardware Development  ...   0   \n",
       "442                 na                                       -1  ...   0   \n",
       "483                 na         Civic, Welfare & Social Services  ...   0   \n",
       "585                 na                                       -1  ...   0   \n",
       "610            private                                       -1  ...   0   \n",
       "989             public  Information Technology Support Services  ...   0   \n",
       "1029                na                                       -1  ...   0   \n",
       "1097           private           Advertising & Public Relations  ...   0   \n",
       "1104                na                                       -1  ...   0   \n",
       "\n",
       "     azure  hadoop  mlops  flask  django  apache data_mining  Job_simpler  \\\n",
       "317      0       0      0      0       1       0           0          mle   \n",
       "442      0       0      0      0       0       0           0      analyst   \n",
       "483      0       0      0      0       0       0           0      analyst   \n",
       "585      0       0      0      0       0       0           0      analyst   \n",
       "610      0       0      0      0       0       0           0      analyst   \n",
       "989      0       0      0      0       0       0           0      manager   \n",
       "1029     1       0      0      0       0       0           0          mle   \n",
       "1097     0       0      0      0       0       0           0      analyst   \n",
       "1104     0       0      0      0       0       0           1      analyst   \n",
       "\n",
       "      seniority  \n",
       "317          na  \n",
       "442          na  \n",
       "483      senior  \n",
       "585          na  \n",
       "610          na  \n",
       "989          na  \n",
       "1029         na  \n",
       "1097         na  \n",
       "1104         na  \n",
       "\n",
       "[9 rows x 45 columns]"
      ]
     },
     "execution_count": 18,
     "metadata": {},
     "output_type": "execute_result"
    }
   ],
   "source": [
    "india_records = df[df['Location'] == 'India']\n",
    "india_records"
   ]
  },
  {
   "cell_type": "code",
   "execution_count": 19,
   "id": "bec1838b",
   "metadata": {},
   "outputs": [],
   "source": [
    "df.loc[df['Location'] == 'India', 'Location'] = 'Bengaluru'"
   ]
  },
  {
   "cell_type": "code",
   "execution_count": 20,
   "id": "e0991bb5",
   "metadata": {},
   "outputs": [
    {
     "data": {
      "text/plain": [
       "0        178\n",
       "1       3252\n",
       "2       3169\n",
       "3       2570\n",
       "4        487\n",
       "        ... \n",
       "1315    2203\n",
       "1316    1602\n",
       "1317    1635\n",
       "1318    1499\n",
       "1319    1162\n",
       "Name: desc_len, Length: 1320, dtype: int64"
      ]
     },
     "execution_count": 20,
     "metadata": {},
     "output_type": "execute_result"
    }
   ],
   "source": [
    "df['desc_len'] = df['Job Description'].apply(lambda x: len(x))\n",
    "df['desc_len']"
   ]
  },
  {
   "cell_type": "code",
   "execution_count": 21,
   "id": "419f0a89",
   "metadata": {},
   "outputs": [],
   "source": [
    "df = df.drop(df[df['hourly'] == 1].index)\n",
    "df = df.drop('hourly', axis=1)"
   ]
  },
  {
   "cell_type": "code",
   "execution_count": 22,
   "id": "bdada07e",
   "metadata": {},
   "outputs": [
    {
     "data": {
      "text/plain": [
       "Index(['Job Title', 'Salary Estimate', 'Job Description', 'Rating',\n",
       "       'Company Name', 'Location', 'Size', 'Founded', 'Type of ownership',\n",
       "       'Industry', 'Sector', 'Revenue', 'employer_provided', 'min_salary',\n",
       "       'max_salary', 'avg_salary', 'Company', 'Company_age', 'python', 'R',\n",
       "       'spark', 'aws', 'excel', 'visualization', 'ml', 'database', 'pipelines',\n",
       "       'cloud', 'security', 'sql', 'etl', 'html', 'nosql', 'javasript', 'css',\n",
       "       'azure', 'hadoop', 'mlops', 'flask', 'django', 'apache', 'data_mining',\n",
       "       'Job_simpler', 'seniority', 'desc_len'],\n",
       "      dtype='object')"
      ]
     },
     "execution_count": 22,
     "metadata": {},
     "output_type": "execute_result"
    }
   ],
   "source": [
    "df.columns"
   ]
  },
  {
   "cell_type": "code",
   "execution_count": 23,
   "id": "8b6d7bd8",
   "metadata": {},
   "outputs": [
    {
     "data": {
      "text/plain": [
       "0                                                    KPMG\n",
       "1                                 SatSure Analytics India\n",
       "2                                                  TARGET\n",
       "3                                                Saltmine\n",
       "4       Mercedes-Benz Research and Development India P...\n",
       "                              ...                        \n",
       "1315                                       LinkCxO Global\n",
       "1316                                             Codvo.ai\n",
       "1317                                             Neilsoft\n",
       "1318                                              Calsoft\n",
       "1319                       Serendipity Corporate Services\n",
       "Name: Company, Length: 1314, dtype: object"
      ]
     },
     "execution_count": 23,
     "metadata": {},
     "output_type": "execute_result"
    }
   ],
   "source": [
    "df.Company = df.Company.apply(lambda x: x.replace('\\n', ''))\n",
    "df.Company"
   ]
  },
  {
   "cell_type": "code",
   "execution_count": 24,
   "id": "bda64a48",
   "metadata": {},
   "outputs": [
    {
     "data": {
      "text/html": [
       "<div>\n",
       "<style scoped>\n",
       "    .dataframe tbody tr th:only-of-type {\n",
       "        vertical-align: middle;\n",
       "    }\n",
       "\n",
       "    .dataframe tbody tr th {\n",
       "        vertical-align: top;\n",
       "    }\n",
       "\n",
       "    .dataframe thead th {\n",
       "        text-align: right;\n",
       "    }\n",
       "</style>\n",
       "<table border=\"1\" class=\"dataframe\">\n",
       "  <thead>\n",
       "    <tr style=\"text-align: right;\">\n",
       "      <th></th>\n",
       "      <th>Rating</th>\n",
       "      <th>Founded</th>\n",
       "      <th>employer_provided</th>\n",
       "      <th>min_salary</th>\n",
       "      <th>max_salary</th>\n",
       "      <th>avg_salary</th>\n",
       "      <th>Company_age</th>\n",
       "      <th>python</th>\n",
       "      <th>R</th>\n",
       "      <th>spark</th>\n",
       "      <th>...</th>\n",
       "      <th>javasript</th>\n",
       "      <th>css</th>\n",
       "      <th>azure</th>\n",
       "      <th>hadoop</th>\n",
       "      <th>mlops</th>\n",
       "      <th>flask</th>\n",
       "      <th>django</th>\n",
       "      <th>apache</th>\n",
       "      <th>data_mining</th>\n",
       "      <th>desc_len</th>\n",
       "    </tr>\n",
       "  </thead>\n",
       "  <tbody>\n",
       "    <tr>\n",
       "      <th>count</th>\n",
       "      <td>1314.000000</td>\n",
       "      <td>1314.000000</td>\n",
       "      <td>1314.000000</td>\n",
       "      <td>1314.000000</td>\n",
       "      <td>1314.000000</td>\n",
       "      <td>1314.000000</td>\n",
       "      <td>1314.000000</td>\n",
       "      <td>1314.000000</td>\n",
       "      <td>1314.0</td>\n",
       "      <td>1314.000000</td>\n",
       "      <td>...</td>\n",
       "      <td>1314.0</td>\n",
       "      <td>1314.000000</td>\n",
       "      <td>1314.000000</td>\n",
       "      <td>1314.000000</td>\n",
       "      <td>1314.000000</td>\n",
       "      <td>1314.000000</td>\n",
       "      <td>1314.000000</td>\n",
       "      <td>1314.000000</td>\n",
       "      <td>1314.000000</td>\n",
       "      <td>1314.000000</td>\n",
       "    </tr>\n",
       "    <tr>\n",
       "      <th>mean</th>\n",
       "      <td>3.210426</td>\n",
       "      <td>1177.660578</td>\n",
       "      <td>0.204718</td>\n",
       "      <td>4.797504</td>\n",
       "      <td>7.558813</td>\n",
       "      <td>6.178158</td>\n",
       "      <td>37.805175</td>\n",
       "      <td>0.475647</td>\n",
       "      <td>0.0</td>\n",
       "      <td>0.101979</td>\n",
       "      <td>...</td>\n",
       "      <td>0.0</td>\n",
       "      <td>0.019787</td>\n",
       "      <td>0.098935</td>\n",
       "      <td>0.055556</td>\n",
       "      <td>0.022831</td>\n",
       "      <td>0.013699</td>\n",
       "      <td>0.012177</td>\n",
       "      <td>0.015221</td>\n",
       "      <td>0.136986</td>\n",
       "      <td>2833.716134</td>\n",
       "    </tr>\n",
       "    <tr>\n",
       "      <th>std</th>\n",
       "      <td>1.878646</td>\n",
       "      <td>962.105494</td>\n",
       "      <td>0.403649</td>\n",
       "      <td>3.840489</td>\n",
       "      <td>4.455567</td>\n",
       "      <td>3.977344</td>\n",
       "      <td>66.885439</td>\n",
       "      <td>0.499597</td>\n",
       "      <td>0.0</td>\n",
       "      <td>0.302736</td>\n",
       "      <td>...</td>\n",
       "      <td>0.0</td>\n",
       "      <td>0.139320</td>\n",
       "      <td>0.298688</td>\n",
       "      <td>0.229149</td>\n",
       "      <td>0.149422</td>\n",
       "      <td>0.116281</td>\n",
       "      <td>0.109715</td>\n",
       "      <td>0.122476</td>\n",
       "      <td>0.343964</td>\n",
       "      <td>2024.172237</td>\n",
       "    </tr>\n",
       "    <tr>\n",
       "      <th>min</th>\n",
       "      <td>-1.000000</td>\n",
       "      <td>-1.000000</td>\n",
       "      <td>0.000000</td>\n",
       "      <td>0.240000</td>\n",
       "      <td>0.240000</td>\n",
       "      <td>0.240000</td>\n",
       "      <td>-1.000000</td>\n",
       "      <td>0.000000</td>\n",
       "      <td>0.0</td>\n",
       "      <td>0.000000</td>\n",
       "      <td>...</td>\n",
       "      <td>0.0</td>\n",
       "      <td>0.000000</td>\n",
       "      <td>0.000000</td>\n",
       "      <td>0.000000</td>\n",
       "      <td>0.000000</td>\n",
       "      <td>0.000000</td>\n",
       "      <td>0.000000</td>\n",
       "      <td>0.000000</td>\n",
       "      <td>0.000000</td>\n",
       "      <td>58.000000</td>\n",
       "    </tr>\n",
       "    <tr>\n",
       "      <th>25%</th>\n",
       "      <td>3.400000</td>\n",
       "      <td>-1.000000</td>\n",
       "      <td>0.000000</td>\n",
       "      <td>3.000000</td>\n",
       "      <td>5.000000</td>\n",
       "      <td>4.500000</td>\n",
       "      <td>-1.000000</td>\n",
       "      <td>0.000000</td>\n",
       "      <td>0.0</td>\n",
       "      <td>0.000000</td>\n",
       "      <td>...</td>\n",
       "      <td>0.0</td>\n",
       "      <td>0.000000</td>\n",
       "      <td>0.000000</td>\n",
       "      <td>0.000000</td>\n",
       "      <td>0.000000</td>\n",
       "      <td>0.000000</td>\n",
       "      <td>0.000000</td>\n",
       "      <td>0.000000</td>\n",
       "      <td>0.000000</td>\n",
       "      <td>1403.250000</td>\n",
       "    </tr>\n",
       "    <tr>\n",
       "      <th>50%</th>\n",
       "      <td>3.900000</td>\n",
       "      <td>1870.000000</td>\n",
       "      <td>0.000000</td>\n",
       "      <td>4.000000</td>\n",
       "      <td>7.000000</td>\n",
       "      <td>5.500000</td>\n",
       "      <td>9.000000</td>\n",
       "      <td>0.000000</td>\n",
       "      <td>0.0</td>\n",
       "      <td>0.000000</td>\n",
       "      <td>...</td>\n",
       "      <td>0.0</td>\n",
       "      <td>0.000000</td>\n",
       "      <td>0.000000</td>\n",
       "      <td>0.000000</td>\n",
       "      <td>0.000000</td>\n",
       "      <td>0.000000</td>\n",
       "      <td>0.000000</td>\n",
       "      <td>0.000000</td>\n",
       "      <td>0.000000</td>\n",
       "      <td>2374.000000</td>\n",
       "    </tr>\n",
       "    <tr>\n",
       "      <th>75%</th>\n",
       "      <td>4.200000</td>\n",
       "      <td>2001.000000</td>\n",
       "      <td>0.000000</td>\n",
       "      <td>6.000000</td>\n",
       "      <td>9.000000</td>\n",
       "      <td>7.000000</td>\n",
       "      <td>30.000000</td>\n",
       "      <td>1.000000</td>\n",
       "      <td>0.0</td>\n",
       "      <td>0.000000</td>\n",
       "      <td>...</td>\n",
       "      <td>0.0</td>\n",
       "      <td>0.000000</td>\n",
       "      <td>0.000000</td>\n",
       "      <td>0.000000</td>\n",
       "      <td>0.000000</td>\n",
       "      <td>0.000000</td>\n",
       "      <td>0.000000</td>\n",
       "      <td>0.000000</td>\n",
       "      <td>0.000000</td>\n",
       "      <td>3822.750000</td>\n",
       "    </tr>\n",
       "    <tr>\n",
       "      <th>max</th>\n",
       "      <td>5.000000</td>\n",
       "      <td>2021.000000</td>\n",
       "      <td>1.000000</td>\n",
       "      <td>50.000000</td>\n",
       "      <td>60.000000</td>\n",
       "      <td>55.000000</td>\n",
       "      <td>333.000000</td>\n",
       "      <td>1.000000</td>\n",
       "      <td>0.0</td>\n",
       "      <td>1.000000</td>\n",
       "      <td>...</td>\n",
       "      <td>0.0</td>\n",
       "      <td>1.000000</td>\n",
       "      <td>1.000000</td>\n",
       "      <td>1.000000</td>\n",
       "      <td>1.000000</td>\n",
       "      <td>1.000000</td>\n",
       "      <td>1.000000</td>\n",
       "      <td>1.000000</td>\n",
       "      <td>1.000000</td>\n",
       "      <td>12509.000000</td>\n",
       "    </tr>\n",
       "  </tbody>\n",
       "</table>\n",
       "<p>8 rows × 32 columns</p>\n",
       "</div>"
      ],
      "text/plain": [
       "            Rating      Founded  employer_provided   min_salary   max_salary  \\\n",
       "count  1314.000000  1314.000000        1314.000000  1314.000000  1314.000000   \n",
       "mean      3.210426  1177.660578           0.204718     4.797504     7.558813   \n",
       "std       1.878646   962.105494           0.403649     3.840489     4.455567   \n",
       "min      -1.000000    -1.000000           0.000000     0.240000     0.240000   \n",
       "25%       3.400000    -1.000000           0.000000     3.000000     5.000000   \n",
       "50%       3.900000  1870.000000           0.000000     4.000000     7.000000   \n",
       "75%       4.200000  2001.000000           0.000000     6.000000     9.000000   \n",
       "max       5.000000  2021.000000           1.000000    50.000000    60.000000   \n",
       "\n",
       "        avg_salary  Company_age       python       R        spark  ...  \\\n",
       "count  1314.000000  1314.000000  1314.000000  1314.0  1314.000000  ...   \n",
       "mean      6.178158    37.805175     0.475647     0.0     0.101979  ...   \n",
       "std       3.977344    66.885439     0.499597     0.0     0.302736  ...   \n",
       "min       0.240000    -1.000000     0.000000     0.0     0.000000  ...   \n",
       "25%       4.500000    -1.000000     0.000000     0.0     0.000000  ...   \n",
       "50%       5.500000     9.000000     0.000000     0.0     0.000000  ...   \n",
       "75%       7.000000    30.000000     1.000000     0.0     0.000000  ...   \n",
       "max      55.000000   333.000000     1.000000     0.0     1.000000  ...   \n",
       "\n",
       "       javasript          css        azure       hadoop        mlops  \\\n",
       "count     1314.0  1314.000000  1314.000000  1314.000000  1314.000000   \n",
       "mean         0.0     0.019787     0.098935     0.055556     0.022831   \n",
       "std          0.0     0.139320     0.298688     0.229149     0.149422   \n",
       "min          0.0     0.000000     0.000000     0.000000     0.000000   \n",
       "25%          0.0     0.000000     0.000000     0.000000     0.000000   \n",
       "50%          0.0     0.000000     0.000000     0.000000     0.000000   \n",
       "75%          0.0     0.000000     0.000000     0.000000     0.000000   \n",
       "max          0.0     1.000000     1.000000     1.000000     1.000000   \n",
       "\n",
       "             flask       django       apache  data_mining      desc_len  \n",
       "count  1314.000000  1314.000000  1314.000000  1314.000000   1314.000000  \n",
       "mean      0.013699     0.012177     0.015221     0.136986   2833.716134  \n",
       "std       0.116281     0.109715     0.122476     0.343964   2024.172237  \n",
       "min       0.000000     0.000000     0.000000     0.000000     58.000000  \n",
       "25%       0.000000     0.000000     0.000000     0.000000   1403.250000  \n",
       "50%       0.000000     0.000000     0.000000     0.000000   2374.000000  \n",
       "75%       0.000000     0.000000     0.000000     0.000000   3822.750000  \n",
       "max       1.000000     1.000000     1.000000     1.000000  12509.000000  \n",
       "\n",
       "[8 rows x 32 columns]"
      ]
     },
     "execution_count": 24,
     "metadata": {},
     "output_type": "execute_result"
    }
   ],
   "source": [
    "df.describe()"
   ]
  },
  {
   "cell_type": "code",
   "execution_count": 25,
   "id": "4eb59096",
   "metadata": {},
   "outputs": [
    {
     "data": {
      "text/plain": [
       "<AxesSubplot:>"
      ]
     },
     "execution_count": 25,
     "metadata": {},
     "output_type": "execute_result"
    },
    {
     "data": {
      "image/png": "[encoded data removed]",
      "text/plain": [
       "<Figure size 432x288 with 1 Axes>"
      ]
     },
     "metadata": {
      "needs_background": "light"
     },
     "output_type": "display_data"
    }
   ],
   "source": [
    "df.Rating.hist()"
   ]
  },
  {
   "cell_type": "code",
   "execution_count": 26,
   "id": "e1e9efa7",
   "metadata": {},
   "outputs": [
    {
     "data": {
      "text/plain": [
       "<AxesSubplot:>"
      ]
     },
     "execution_count": 26,
     "metadata": {},
     "output_type": "execute_result"
    },
    {
     "data": {
      "image/png": "[encoded data removed]",
      "text/plain": [
       "<Figure size 432x288 with 1 Axes>"
      ]
     },
     "metadata": {
      "needs_background": "light"
     },
     "output_type": "display_data"
    }
   ],
   "source": [
    "df.avg_salary.hist()"
   ]
  },
  {
   "cell_type": "code",
   "execution_count": 27,
   "id": "bada140e",
   "metadata": {},
   "outputs": [
    {
     "data": {
      "text/plain": [
       "<AxesSubplot:>"
      ]
     },
     "execution_count": 27,
     "metadata": {},
     "output_type": "execute_result"
    },
    {
     "data": {
      "image/png": "[encoded data removed]",
      "text/plain": [
       "<Figure size 432x288 with 1 Axes>"
      ]
     },
     "metadata": {
      "needs_background": "light"
     },
     "output_type": "display_data"
    }
   ],
   "source": [
    "df.Company_age.hist()"
   ]
  },
  {
   "cell_type": "code",
   "execution_count": 28,
   "id": "ea9ed21f",
   "metadata": {},
   "outputs": [
    {
     "data": {
      "text/plain": [
       "<AxesSubplot:>"
      ]
     },
     "execution_count": 28,
     "metadata": {},
     "output_type": "execute_result"
    },
    {
     "data": {
      "image/png": "[encoded data removed]",
      "text/plain": [
       "<Figure size 432x288 with 1 Axes>"
      ]
     },
     "metadata": {
      "needs_background": "light"
     },
     "output_type": "display_data"
    }
   ],
   "source": [
    "df.desc_len.hist()"
   ]
  },
  {
   "cell_type": "code",
   "execution_count": 29,
   "id": "25bd2d8f",
   "metadata": {},
   "outputs": [
    {
     "data": {
      "text/plain": [
       "<AxesSubplot:>"
      ]
     },
     "execution_count": 29,
     "metadata": {},
     "output_type": "execute_result"
    },
    {
     "data": {
      "image/png": "[encoded data removed]",
      "text/plain": [
       "<Figure size 432x288 with 2 Axes>"
      ]
     },
     "metadata": {
      "needs_background": "light"
     },
     "output_type": "display_data"
    }
   ],
   "source": [
    "cmap = sns.diverging_palette(220, 10, as_cmap = True)\n",
    "sns.heatmap(df[['Company_age', 'avg_salary', 'Rating', 'desc_len']].corr(), vmax= 0.3,\n",
    "           center = 0, cmap = cmap,square = True, linewidths = 0.5, cbar_kws = {\"shrink\": 0.5})"
   ]
  },
  {
   "cell_type": "code",
   "execution_count": 30,
   "id": "56105559",
   "metadata": {},
   "outputs": [
    {
     "data": {
      "text/plain": [
       "Index(['Job Title', 'Salary Estimate', 'Job Description', 'Rating',\n",
       "       'Company Name', 'Location', 'Size', 'Founded', 'Type of ownership',\n",
       "       'Industry', 'Sector', 'Revenue', 'employer_provided', 'min_salary',\n",
       "       'max_salary', 'avg_salary', 'Company', 'Company_age', 'python', 'R',\n",
       "       'spark', 'aws', 'excel', 'visualization', 'ml', 'database', 'pipelines',\n",
       "       'cloud', 'security', 'sql', 'etl', 'html', 'nosql', 'javasript', 'css',\n",
       "       'azure', 'hadoop', 'mlops', 'flask', 'django', 'apache', 'data_mining',\n",
       "       'Job_simpler', 'seniority', 'desc_len'],\n",
       "      dtype='object')"
      ]
     },
     "execution_count": 30,
     "metadata": {},
     "output_type": "execute_result"
    }
   ],
   "source": [
    "df.columns"
   ]
  },
  {
   "cell_type": "code",
   "execution_count": 31,
   "id": "e856becd",
   "metadata": {},
   "outputs": [],
   "source": [
    "df_cat = df[['Location', 'Size', 'Type of ownership', 'Industry', 'Sector', 'Revenue', 'Company','Job_simpler', 'seniority'\n",
    "            ,'python','R','spark', 'aws', 'excel', 'visualization', 'ml', 'database', 'pipelines',\n",
    "             'cloud', 'security', 'sql', 'etl', 'azure', 'hadoop', 'mlops', 'flask',\n",
    "             'django', 'apache']]"
   ]
  },
  {
   "cell_type": "code",
   "execution_count": 32,
   "id": "6c6c2681",
   "metadata": {},
   "outputs": [
    {
     "name": "stdout",
     "output_type": "stream",
     "text": [
      "Graph for Location: total = 22\n"
     ]
    },
    {
     "data": {
      "image/png": "[encoded data removed]",
      "text/plain": [
       "<Figure size 432x288 with 1 Axes>"
      ]
     },
     "metadata": {
      "needs_background": "light"
     },
     "output_type": "display_data"
    },
    {
     "name": "stdout",
     "output_type": "stream",
     "text": [
      "Graph for Size: total = 8\n"
     ]
    },
    {
     "data": {
      "image/png": "[encoded data removed]",
      "text/plain": [
       "<Figure size 432x288 with 1 Axes>"
      ]
     },
     "metadata": {
      "needs_background": "light"
     },
     "output_type": "display_data"
    },
    {
     "name": "stdout",
     "output_type": "stream",
     "text": [
      "Graph for Type of ownership: total = 8\n"
     ]
    },
    {
     "data": {
      "image/png": "[encoded data removed]",
      "text/plain": [
       "<Figure size 432x288 with 1 Axes>"
      ]
     },
     "metadata": {
      "needs_background": "light"
     },
     "output_type": "display_data"
    },
    {
     "name": "stdout",
     "output_type": "stream",
     "text": [
      "Graph for Industry: total = 52\n"
     ]
    },
    {
     "data": {
      "image/png": "[encoded data removed]",
      "text/plain": [
       "<Figure size 432x288 with 1 Axes>"
      ]
     },
     "metadata": {
      "needs_background": "light"
     },
     "output_type": "display_data"
    },
    {
     "name": "stdout",
     "output_type": "stream",
     "text": [
      "Graph for Sector: total = 23\n"
     ]
    },
    {
     "data": {
      "image/png": "[encoded data removed]",
      "text/plain": [
       "<Figure size 432x288 with 1 Axes>"
      ]
     },
     "metadata": {
      "needs_background": "light"
     },
     "output_type": "display_data"
    },
    {
     "name": "stdout",
     "output_type": "stream",
     "text": [
      "Graph for Revenue: total = 11\n"
     ]
    },
    {
     "data": {
      "image/png": "[encoded data removed]",
      "text/plain": [
       "<Figure size 432x288 with 1 Axes>"
      ]
     },
     "metadata": {
      "needs_background": "light"
     },
     "output_type": "display_data"
    },
    {
     "name": "stdout",
     "output_type": "stream",
     "text": [
      "Graph for Company: total = 851\n"
     ]
    },
    {
     "data": {
      "image/png": "[encoded data removed]",
      "text/plain": [
       "<Figure size 432x288 with 1 Axes>"
      ]
     },
     "metadata": {
      "needs_background": "light"
     },
     "output_type": "display_data"
    },
    {
     "name": "stdout",
     "output_type": "stream",
     "text": [
      "Graph for Job_simpler: total = 6\n"
     ]
    },
    {
     "data": {
      "image/png": "[encoded data removed]",
      "text/plain": [
       "<Figure size 432x288 with 1 Axes>"
      ]
     },
     "metadata": {
      "needs_background": "light"
     },
     "output_type": "display_data"
    },
    {
     "name": "stdout",
     "output_type": "stream",
     "text": [
      "Graph for seniority: total = 3\n"
     ]
    },
    {
     "data": {
      "image/png": "[encoded data removed]",
      "text/plain": [
       "<Figure size 432x288 with 1 Axes>"
      ]
     },
     "metadata": {
      "needs_background": "light"
     },
     "output_type": "display_data"
    },
    {
     "name": "stdout",
     "output_type": "stream",
     "text": [
      "Graph for python: total = 2\n"
     ]
    },
    {
     "data": {
      "image/png": "[encoded data removed]",
      "text/plain": [
       "<Figure size 432x288 with 1 Axes>"
      ]
     },
     "metadata": {
      "needs_background": "light"
     },
     "output_type": "display_data"
    },
    {
     "name": "stdout",
     "output_type": "stream",
     "text": [
      "Graph for R: total = 1\n"
     ]
    },
    {
     "data": {
      "image/png": "[encoded data removed]",
      "text/plain": [
       "<Figure size 432x288 with 1 Axes>"
      ]
     },
     "metadata": {
      "needs_background": "light"
     },
     "output_type": "display_data"
    },
    {
     "name": "stdout",
     "output_type": "stream",
     "text": [
      "Graph for spark: total = 2\n"
     ]
    },
    {
     "data": {
      "image/png": "[encoded data removed]",
      "text/plain": [
       "<Figure size 432x288 with 1 Axes>"
      ]
     },
     "metadata": {
      "needs_background": "light"
     },
     "output_type": "display_data"
    },
    {
     "name": "stdout",
     "output_type": "stream",
     "text": [
      "Graph for aws: total = 2\n"
     ]
    },
    {
     "data": {
      "image/png": "[encoded data removed]",
      "text/plain": [
       "<Figure size 432x288 with 1 Axes>"
      ]
     },
     "metadata": {
      "needs_background": "light"
     },
     "output_type": "display_data"
    },
    {
     "name": "stdout",
     "output_type": "stream",
     "text": [
      "Graph for excel: total = 2\n"
     ]
    },
    {
     "data": {
      "image/png": "[encoded data removed]",
      "text/plain": [
       "<Figure size 432x288 with 1 Axes>"
      ]
     },
     "metadata": {
      "needs_background": "light"
     },
     "output_type": "display_data"
    },
    {
     "name": "stdout",
     "output_type": "stream",
     "text": [
      "Graph for visualization: total = 2\n"
     ]
    },
    {
     "data": {
      "image/png": "[encoded data removed]",
      "text/plain": [
       "<Figure size 432x288 with 1 Axes>"
      ]
     },
     "metadata": {
      "needs_background": "light"
     },
     "output_type": "display_data"
    },
    {
     "name": "stdout",
     "output_type": "stream",
     "text": [
      "Graph for ml: total = 2\n"
     ]
    },
    {
     "data": {
      "image/png": "[encoded data removed]",
      "text/plain": [
       "<Figure size 432x288 with 1 Axes>"
      ]
     },
     "metadata": {
      "needs_background": "light"
     },
     "output_type": "display_data"
    },
    {
     "name": "stdout",
     "output_type": "stream",
     "text": [
      "Graph for database: total = 2\n"
     ]
    },
    {
     "data": {
      "image/png": "[encoded data removed]",
      "text/plain": [
       "<Figure size 432x288 with 1 Axes>"
      ]
     },
     "metadata": {
      "needs_background": "light"
     },
     "output_type": "display_data"
    },
    {
     "name": "stdout",
     "output_type": "stream",
     "text": [
      "Graph for pipelines: total = 2\n"
     ]
    },
    {
     "data": {
      "image/png": "[encoded data removed]",
      "text/plain": [
       "<Figure size 432x288 with 1 Axes>"
      ]
     },
     "metadata": {
      "needs_background": "light"
     },
     "output_type": "display_data"
    },
    {
     "name": "stdout",
     "output_type": "stream",
     "text": [
      "Graph for cloud: total = 2\n"
     ]
    },
    {
     "data": {
      "image/png": "[encoded data removed]",
      "text/plain": [
       "<Figure size 432x288 with 1 Axes>"
      ]
     },
     "metadata": {
      "needs_background": "light"
     },
     "output_type": "display_data"
    },
    {
     "name": "stdout",
     "output_type": "stream",
     "text": [
      "Graph for security: total = 2\n"
     ]
    },
    {
     "data": {
      "image/png": "[encoded data removed]",
      "text/plain": [
       "<Figure size 432x288 with 1 Axes>"
      ]
     },
     "metadata": {
      "needs_background": "light"
     },
     "output_type": "display_data"
    },
    {
     "name": "stdout",
     "output_type": "stream",
     "text": [
      "Graph for sql: total = 2\n"
     ]
    },
    {
     "data": {
      "image/png": "[encoded data removed]",
      "text/plain": [
       "<Figure size 432x288 with 1 Axes>"
      ]
     },
     "metadata": {
      "needs_background": "light"
     },
     "output_type": "display_data"
    },
    {
     "name": "stdout",
     "output_type": "stream",
     "text": [
      "Graph for etl: total = 2\n"
     ]
    },
    {
     "data": {
      "image/png": "[encoded data removed]",
      "text/plain": [
       "<Figure size 432x288 with 1 Axes>"
      ]
     },
     "metadata": {
      "needs_background": "light"
     },
     "output_type": "display_data"
    },
    {
     "name": "stdout",
     "output_type": "stream",
     "text": [
      "Graph for azure: total = 2\n"
     ]
    },
    {
     "data": {
      "image/png": "[encoded data removed]",
      "text/plain": [
       "<Figure size 432x288 with 1 Axes>"
      ]
     },
     "metadata": {
      "needs_background": "light"
     },
     "output_type": "display_data"
    },
    {
     "name": "stdout",
     "output_type": "stream",
     "text": [
      "Graph for hadoop: total = 2\n"
     ]
    },
    {
     "data": {
      "image/png": "[encoded data removed]",
      "text/plain": [
       "<Figure size 432x288 with 1 Axes>"
      ]
     },
     "metadata": {
      "needs_background": "light"
     },
     "output_type": "display_data"
    },
    {
     "name": "stdout",
     "output_type": "stream",
     "text": [
      "Graph for mlops: total = 2\n"
     ]
    },
    {
     "data": {
      "image/png": "[encoded data removed]",
      "text/plain": [
       "<Figure size 432x288 with 1 Axes>"
      ]
     },
     "metadata": {
      "needs_background": "light"
     },
     "output_type": "display_data"
    },
    {
     "name": "stdout",
     "output_type": "stream",
     "text": [
      "Graph for flask: total = 2\n"
     ]
    },
    {
     "data": {
      "image/png": "[encoded data removed]",
      "text/plain": [
       "<Figure size 432x288 with 1 Axes>"
      ]
     },
     "metadata": {
      "needs_background": "light"
     },
     "output_type": "display_data"
    },
    {
     "name": "stdout",
     "output_type": "stream",
     "text": [
      "Graph for django: total = 2\n"
     ]
    },
    {
     "data": {
      "image/png": "[encoded data removed]",
      "text/plain": [
       "<Figure size 432x288 with 1 Axes>"
      ]
     },
     "metadata": {
      "needs_background": "light"
     },
     "output_type": "display_data"
    },
    {
     "name": "stdout",
     "output_type": "stream",
     "text": [
      "Graph for apache: total = 2\n"
     ]
    },
    {
     "data": {
      "image/png": "[encoded data removed]",
      "text/plain": [
       "<Figure size 432x288 with 1 Axes>"
      ]
     },
     "metadata": {
      "needs_background": "light"
     },
     "output_type": "display_data"
    }
   ],
   "source": [
    "for i in df_cat.columns:\n",
    "    cat_num = df_cat[i].value_counts()\n",
    "    print(f\"Graph for {i}: total = {len(cat_num)}\")\n",
    "    chart = sns.barplot(x=cat_num.index, y=cat_num)\n",
    "    chart.set_xticklabels(chart.get_xticklabels(), rotation = 90)\n",
    "    plt.show()"
   ]
  },
  {
   "cell_type": "code",
   "execution_count": 33,
   "id": "68c7fa2b",
   "metadata": {},
   "outputs": [
    {
     "name": "stdout",
     "output_type": "stream",
     "text": [
      "Graph for Company: total = 20\n"
     ]
    },
    {
     "data": {
      "image/png": "[encoded data removed]",
      "text/plain": [
       "<Figure size 432x288 with 1 Axes>"
      ]
     },
     "metadata": {
      "needs_background": "light"
     },
     "output_type": "display_data"
    },
    {
     "name": "stdout",
     "output_type": "stream",
     "text": [
      "Graph for Industry: total = 20\n"
     ]
    },
    {
     "data": {
      "image/png": "[encoded data removed]",
      "text/plain": [
       "<Figure size 432x288 with 1 Axes>"
      ]
     },
     "metadata": {
      "needs_background": "light"
     },
     "output_type": "display_data"
    }
   ],
   "source": [
    "for i in df_cat[['Company', 'Industry']].columns:\n",
    "    cat_num = df_cat[i].value_counts()[:20]\n",
    "    print(f\"Graph for {i}: total = {len(cat_num)}\")\n",
    "    chart = sns.barplot(x=cat_num.index, y=cat_num)\n",
    "    chart.set_xticklabels(chart.get_xticklabels(), rotation = 90)\n",
    "    plt.show()"
   ]
  },
  {
   "cell_type": "code",
   "execution_count": 34,
   "id": "1407b92c",
   "metadata": {},
   "outputs": [
    {
     "data": {
      "text/html": [
       "<div>\n",
       "<style scoped>\n",
       "    .dataframe tbody tr th:only-of-type {\n",
       "        vertical-align: middle;\n",
       "    }\n",
       "\n",
       "    .dataframe tbody tr th {\n",
       "        vertical-align: top;\n",
       "    }\n",
       "\n",
       "    .dataframe thead th {\n",
       "        text-align: right;\n",
       "    }\n",
       "</style>\n",
       "<table border=\"1\" class=\"dataframe\">\n",
       "  <thead>\n",
       "    <tr style=\"text-align: right;\">\n",
       "      <th></th>\n",
       "      <th></th>\n",
       "      <th>avg_salary</th>\n",
       "    </tr>\n",
       "    <tr>\n",
       "      <th>Job_simpler</th>\n",
       "      <th>seniority</th>\n",
       "      <th></th>\n",
       "    </tr>\n",
       "  </thead>\n",
       "  <tbody>\n",
       "    <tr>\n",
       "      <th rowspan=\"3\" valign=\"top\">analyst</th>\n",
       "      <th>junior</th>\n",
       "      <td>5.500000</td>\n",
       "    </tr>\n",
       "    <tr>\n",
       "      <th>na</th>\n",
       "      <td>5.680901</td>\n",
       "    </tr>\n",
       "    <tr>\n",
       "      <th>senior</th>\n",
       "      <td>6.671622</td>\n",
       "    </tr>\n",
       "    <tr>\n",
       "      <th>data engineer</th>\n",
       "      <th>na</th>\n",
       "      <td>7.700000</td>\n",
       "    </tr>\n",
       "    <tr>\n",
       "      <th rowspan=\"3\" valign=\"top\">data scientist</th>\n",
       "      <th>junior</th>\n",
       "      <td>4.833333</td>\n",
       "    </tr>\n",
       "    <tr>\n",
       "      <th>na</th>\n",
       "      <td>6.870813</td>\n",
       "    </tr>\n",
       "    <tr>\n",
       "      <th>senior</th>\n",
       "      <td>7.105882</td>\n",
       "    </tr>\n",
       "    <tr>\n",
       "      <th>manager</th>\n",
       "      <th>na</th>\n",
       "      <td>5.409091</td>\n",
       "    </tr>\n",
       "    <tr>\n",
       "      <th rowspan=\"2\" valign=\"top\">mle</th>\n",
       "      <th>na</th>\n",
       "      <td>6.437468</td>\n",
       "    </tr>\n",
       "    <tr>\n",
       "      <th>senior</th>\n",
       "      <td>5.749744</td>\n",
       "    </tr>\n",
       "    <tr>\n",
       "      <th rowspan=\"2\" valign=\"top\">na</th>\n",
       "      <th>na</th>\n",
       "      <td>5.780769</td>\n",
       "    </tr>\n",
       "    <tr>\n",
       "      <th>senior</th>\n",
       "      <td>5.090000</td>\n",
       "    </tr>\n",
       "  </tbody>\n",
       "</table>\n",
       "</div>"
      ],
      "text/plain": [
       "                          avg_salary\n",
       "Job_simpler    seniority            \n",
       "analyst        junior       5.500000\n",
       "               na           5.680901\n",
       "               senior       6.671622\n",
       "data engineer  na           7.700000\n",
       "data scientist junior       4.833333\n",
       "               na           6.870813\n",
       "               senior       7.105882\n",
       "manager        na           5.409091\n",
       "mle            na           6.437468\n",
       "               senior       5.749744\n",
       "na             na           5.780769\n",
       "               senior       5.090000"
      ]
     },
     "execution_count": 34,
     "metadata": {},
     "output_type": "execute_result"
    }
   ],
   "source": [
    "pd.pivot_table(df, index = ['Job_simpler','seniority'], values = 'avg_salary')"
   ]
  },
  {
   "cell_type": "code",
   "execution_count": 35,
   "id": "176eefe2",
   "metadata": {},
   "outputs": [
    {
     "data": {
      "text/html": [
       "<div>\n",
       "<style scoped>\n",
       "    .dataframe tbody tr th:only-of-type {\n",
       "        vertical-align: middle;\n",
       "    }\n",
       "\n",
       "    .dataframe tbody tr th {\n",
       "        vertical-align: top;\n",
       "    }\n",
       "\n",
       "    .dataframe thead th {\n",
       "        text-align: right;\n",
       "    }\n",
       "</style>\n",
       "<table border=\"1\" class=\"dataframe\">\n",
       "  <thead>\n",
       "    <tr style=\"text-align: right;\">\n",
       "      <th></th>\n",
       "      <th>avg_salary</th>\n",
       "    </tr>\n",
       "    <tr>\n",
       "      <th>Location</th>\n",
       "      <th></th>\n",
       "    </tr>\n",
       "  </thead>\n",
       "  <tbody>\n",
       "    <tr>\n",
       "      <th>Bengaluru</th>\n",
       "      <td>6.743314</td>\n",
       "    </tr>\n",
       "    <tr>\n",
       "      <th>Hyderābād</th>\n",
       "      <td>6.568969</td>\n",
       "    </tr>\n",
       "    <tr>\n",
       "      <th>New Delhi</th>\n",
       "      <td>6.464021</td>\n",
       "    </tr>\n",
       "    <tr>\n",
       "      <th>Pune</th>\n",
       "      <td>6.375877</td>\n",
       "    </tr>\n",
       "    <tr>\n",
       "      <th>Navi Mumbai</th>\n",
       "      <td>6.265714</td>\n",
       "    </tr>\n",
       "    <tr>\n",
       "      <th>Mumbai</th>\n",
       "      <td>6.107643</td>\n",
       "    </tr>\n",
       "    <tr>\n",
       "      <th>Secunderābād</th>\n",
       "      <td>6.000000</td>\n",
       "    </tr>\n",
       "    <tr>\n",
       "      <th>Chennai</th>\n",
       "      <td>5.962718</td>\n",
       "    </tr>\n",
       "    <tr>\n",
       "      <th>Ahmedabad</th>\n",
       "      <td>5.076429</td>\n",
       "    </tr>\n",
       "    <tr>\n",
       "      <th>Daryā Ganj</th>\n",
       "      <td>5.000000</td>\n",
       "    </tr>\n",
       "    <tr>\n",
       "      <th>Gāndhīnagar</th>\n",
       "      <td>4.916667</td>\n",
       "    </tr>\n",
       "    <tr>\n",
       "      <th>Rājkot</th>\n",
       "      <td>4.914286</td>\n",
       "    </tr>\n",
       "    <tr>\n",
       "      <th>Vadodara</th>\n",
       "      <td>4.903030</td>\n",
       "    </tr>\n",
       "    <tr>\n",
       "      <th>Badarpur</th>\n",
       "      <td>4.500000</td>\n",
       "    </tr>\n",
       "    <tr>\n",
       "      <th>Patel Nagar</th>\n",
       "      <td>4.500000</td>\n",
       "    </tr>\n",
       "    <tr>\n",
       "      <th>Thāne</th>\n",
       "      <td>4.216000</td>\n",
       "    </tr>\n",
       "    <tr>\n",
       "      <th>Janakpuri</th>\n",
       "      <td>4.200000</td>\n",
       "    </tr>\n",
       "    <tr>\n",
       "      <th>Surat</th>\n",
       "      <td>3.794286</td>\n",
       "    </tr>\n",
       "    <tr>\n",
       "      <th>Bharūch</th>\n",
       "      <td>2.580000</td>\n",
       "    </tr>\n",
       "    <tr>\n",
       "      <th>Pitampura</th>\n",
       "      <td>2.400000</td>\n",
       "    </tr>\n",
       "    <tr>\n",
       "      <th>Kalyan</th>\n",
       "      <td>2.000000</td>\n",
       "    </tr>\n",
       "    <tr>\n",
       "      <th>Haveli</th>\n",
       "      <td>1.800000</td>\n",
       "    </tr>\n",
       "  </tbody>\n",
       "</table>\n",
       "</div>"
      ],
      "text/plain": [
       "              avg_salary\n",
       "Location                \n",
       "Bengaluru       6.743314\n",
       "Hyderābād       6.568969\n",
       "New Delhi       6.464021\n",
       "Pune            6.375877\n",
       "Navi Mumbai     6.265714\n",
       "Mumbai          6.107643\n",
       "Secunderābād    6.000000\n",
       "Chennai         5.962718\n",
       "Ahmedabad       5.076429\n",
       "Daryā Ganj      5.000000\n",
       "Gāndhīnagar     4.916667\n",
       "Rājkot          4.914286\n",
       "Vadodara        4.903030\n",
       "Badarpur        4.500000\n",
       "Patel Nagar     4.500000\n",
       "Thāne           4.216000\n",
       "Janakpuri       4.200000\n",
       "Surat           3.794286\n",
       "Bharūch         2.580000\n",
       "Pitampura       2.400000\n",
       "Kalyan          2.000000\n",
       "Haveli          1.800000"
      ]
     },
     "execution_count": 35,
     "metadata": {},
     "output_type": "execute_result"
    }
   ],
   "source": [
    "pd.pivot_table(df, index = ['Location'], values = 'avg_salary').sort_values('avg_salary', ascending = False)"
   ]
  },
  {
   "cell_type": "code",
   "execution_count": 36,
   "id": "338f74a8",
   "metadata": {},
   "outputs": [
    {
     "data": {
      "text/html": [
       "<div>\n",
       "<style scoped>\n",
       "    .dataframe tbody tr th:only-of-type {\n",
       "        vertical-align: middle;\n",
       "    }\n",
       "\n",
       "    .dataframe tbody tr th {\n",
       "        vertical-align: top;\n",
       "    }\n",
       "\n",
       "    .dataframe thead th {\n",
       "        text-align: right;\n",
       "    }\n",
       "</style>\n",
       "<table border=\"1\" class=\"dataframe\">\n",
       "  <thead>\n",
       "    <tr style=\"text-align: right;\">\n",
       "      <th></th>\n",
       "      <th></th>\n",
       "      <th>avg_salary</th>\n",
       "    </tr>\n",
       "    <tr>\n",
       "      <th>Location</th>\n",
       "      <th>Job_simpler</th>\n",
       "      <th></th>\n",
       "    </tr>\n",
       "  </thead>\n",
       "  <tbody>\n",
       "    <tr>\n",
       "      <th rowspan=\"5\" valign=\"top\">Ahmedabad</th>\n",
       "      <th>analyst</th>\n",
       "      <td>4.669831</td>\n",
       "    </tr>\n",
       "    <tr>\n",
       "      <th>data scientist</th>\n",
       "      <td>6.700000</td>\n",
       "    </tr>\n",
       "    <tr>\n",
       "      <th>manager</th>\n",
       "      <td>5.500000</td>\n",
       "    </tr>\n",
       "    <tr>\n",
       "      <th>mle</th>\n",
       "      <td>4.850000</td>\n",
       "    </tr>\n",
       "    <tr>\n",
       "      <th>na</th>\n",
       "      <td>5.100000</td>\n",
       "    </tr>\n",
       "    <tr>\n",
       "      <th>...</th>\n",
       "      <th>...</th>\n",
       "      <td>...</td>\n",
       "    </tr>\n",
       "    <tr>\n",
       "      <th>Thāne</th>\n",
       "      <th>na</th>\n",
       "      <td>8.500000</td>\n",
       "    </tr>\n",
       "    <tr>\n",
       "      <th rowspan=\"4\" valign=\"top\">Vadodara</th>\n",
       "      <th>analyst</th>\n",
       "      <td>4.085000</td>\n",
       "    </tr>\n",
       "    <tr>\n",
       "      <th>data scientist</th>\n",
       "      <td>6.750000</td>\n",
       "    </tr>\n",
       "    <tr>\n",
       "      <th>mle</th>\n",
       "      <td>4.500000</td>\n",
       "    </tr>\n",
       "    <tr>\n",
       "      <th>na</th>\n",
       "      <td>8.700000</td>\n",
       "    </tr>\n",
       "  </tbody>\n",
       "</table>\n",
       "<p>63 rows × 1 columns</p>\n",
       "</div>"
      ],
      "text/plain": [
       "                          avg_salary\n",
       "Location  Job_simpler               \n",
       "Ahmedabad analyst           4.669831\n",
       "          data scientist    6.700000\n",
       "          manager           5.500000\n",
       "          mle               4.850000\n",
       "          na                5.100000\n",
       "...                              ...\n",
       "Thāne     na                8.500000\n",
       "Vadodara  analyst           4.085000\n",
       "          data scientist    6.750000\n",
       "          mle               4.500000\n",
       "          na                8.700000\n",
       "\n",
       "[63 rows x 1 columns]"
      ]
     },
     "execution_count": 36,
     "metadata": {},
     "output_type": "execute_result"
    }
   ],
   "source": [
    "pd.pivot_table(df, index = ['Location','Job_simpler'], values = 'avg_salary').sort_values('Location')"
   ]
  },
  {
   "cell_type": "code",
   "execution_count": 37,
   "id": "dcf2e4e9",
   "metadata": {},
   "outputs": [
    {
     "data": {
      "text/plain": [
       "Index(['Job Title', 'Salary Estimate', 'Job Description', 'Rating',\n",
       "       'Company Name', 'Location', 'Size', 'Founded', 'Type of ownership',\n",
       "       'Industry', 'Sector', 'Revenue', 'employer_provided', 'min_salary',\n",
       "       'max_salary', 'avg_salary', 'Company', 'Company_age', 'python', 'R',\n",
       "       'spark', 'aws', 'excel', 'visualization', 'ml', 'database', 'pipelines',\n",
       "       'cloud', 'security', 'sql', 'etl', 'html', 'nosql', 'javasript', 'css',\n",
       "       'azure', 'hadoop', 'mlops', 'flask', 'django', 'apache', 'data_mining',\n",
       "       'Job_simpler', 'seniority', 'desc_len'],\n",
       "      dtype='object')"
      ]
     },
     "execution_count": 37,
     "metadata": {},
     "output_type": "execute_result"
    }
   ],
   "source": [
    "df.columns"
   ]
  },
  {
   "cell_type": "code",
   "execution_count": 38,
   "id": "6970c269",
   "metadata": {},
   "outputs": [],
   "source": [
    "df_pivots = df[['Rating', 'Industry', 'Sector', 'Revenue', 'employer_provided', 'python', 'R',\n",
    "       'spark', 'aws', 'excel', 'visualization', 'ml', 'database', 'pipelines',\n",
    "       'cloud', 'security', 'sql', 'etl', 'azure', 'hadoop', 'mlops', 'flask',\n",
    "       'django', 'apache', 'avg_salary']]"
   ]
  },
  {
   "cell_type": "code",
   "execution_count": 39,
   "id": "f029b0c2",
   "metadata": {
    "scrolled": false
   },
   "outputs": [
    {
     "name": "stdout",
     "output_type": "stream",
     "text": [
      "Rating\n",
      "        avg_salary\n",
      "Rating            \n",
      " 2.2     10.500000\n",
      " 3.1     10.333333\n",
      " 3.3      7.194444\n",
      " 5.0      7.116364\n",
      " 1.0      6.716000\n",
      " 4.2      6.712766\n",
      "-1.0      6.444563\n",
      " 3.9      6.344444\n",
      " 3.7      6.331803\n",
      " 3.4      6.289474\n",
      " 4.1      6.274422\n",
      " 3.2      6.230769\n",
      " 4.5      6.221500\n",
      " 4.0      5.993553\n",
      " 4.3      5.724000\n",
      " 3.0      5.718750\n",
      " 4.4      5.696316\n",
      " 3.6      5.669231\n",
      " 3.8      5.641333\n",
      " 2.8      5.500000\n",
      " 1.9      5.500000\n",
      " 4.6      5.404167\n",
      " 3.5      5.404167\n",
      " 4.8      5.313103\n",
      " 4.9      5.266667\n",
      " 2.3      5.250000\n",
      " 2.0      5.000000\n",
      " 2.9      4.571429\n",
      " 2.1      4.500000\n",
      " 4.7      4.231250\n",
      " 2.7      4.112000\n",
      " 2.5      3.500000\n",
      "Industry\n",
      "                                         avg_salary\n",
      "Industry                                           \n",
      "Department, Clothing & Shoe Stores        12.000000\n",
      "Colleges & Universities                    9.071429\n",
      "Transportation Equipment Manufacturing     7.500000\n",
      "Beauty & Wellness                          7.500000\n",
      "Research & Development                     7.419355\n",
      "Sports & Recreation                        7.000000\n",
      "General Merchandise & Superstores          7.000000\n",
      "Building & Personnel Services              7.000000\n",
      "Banking & Lending                          6.863636\n",
      "Financial Transaction Processing           6.823529\n",
      "Legal                                      6.750000\n",
      "Broadcast Media                            6.750000\n",
      "Security & Protective                      6.750000\n",
      "Food & Beverage Manufacturing              6.722222\n",
      "Architectural & Engineering Services       6.625000\n",
      "HR Consulting                              6.605000\n",
      "Civic, Welfare & Social Services           6.600000\n",
      "Accounting & Tax                           6.570909\n",
      "Electronics Manufacturing                  6.351852\n",
      "Energy & Utilities                         6.350000\n",
      "-1                                         6.307204\n",
      "Telecommunications Services                6.300000\n",
      "Investment & Asset Management              6.196701\n",
      "Education Support & Training Services      6.135000\n",
      "Computer Hardware Development              6.017500\n",
      "Machinery Manufacturing                    6.000000\n",
      "Insurance Carriers                         6.000000\n",
      "Other Retail Shops                         6.000000\n",
      "Home Furniture & Housewares Stores         6.000000\n",
      "Information Technology Support Services    5.992356\n",
      "Business Consulting                        5.894444\n",
      "Enterprise Software & Network Solutions    5.850000\n",
      "Biotech & Pharmaceuticals                  5.666667\n",
      "Consumer Product Manufacturing             5.642857\n",
      "Software Development                       5.568571\n",
      "Commercial Equipment Services              5.500000\n",
      "Ticket Sales                               5.500000\n",
      "Stock Exchanges                            5.500000\n",
      "Insurance Agencies & Brokerages            5.500000\n",
      "National Services & Agencies               5.500000\n",
      "Aerospace & Defence                        5.250000\n",
      "Chemical Manufacturing                     5.250000\n",
      "Real Estate                                5.207500\n",
      "Internet & Web Services                    5.000000\n",
      "Advertising & Public Relations             4.497500\n",
      "Publishing                                 4.416667\n",
      "Healthcare Services & Hospitals            4.375000\n",
      "Staffing, Recruitment & Subcontracting     4.166667\n",
      "Grantmaking & Charitable Foundations       4.000000\n",
      "Film Production                            3.000000\n",
      "Metal & Mineral Manufacturing              2.500000\n",
      "Taxi & Car Services                        2.500000\n",
      "Sector\n",
      "                                             avg_salary\n",
      "Sector                                                 \n",
      "Retail & Wholesale                             8.600000\n",
      "Education                                      7.505333\n",
      "Personal Consumer Services                     7.500000\n",
      "Legal                                          6.750000\n",
      "Arts, Entertainment & Recreation               6.500000\n",
      "Management & Consulting                        6.463636\n",
      "Human Resources & Staffing                     6.434884\n",
      "Manufacturing                                  6.421429\n",
      "Finance                                        6.411724\n",
      "Construction, Repair & Maintenance Services    6.400000\n",
      "Energy, Mining, Utilities                      6.350000\n",
      "-1                                             6.307204\n",
      "Telecommunications                             6.300000\n",
      "Non-profit & NGO                               6.166667\n",
      "Insurance                                      5.900000\n",
      "Information Technology                         5.856785\n",
      "Pharmaceutical & Biotechnology                 5.666667\n",
      "Government & Public Administration             5.500000\n",
      "Aerospace & Defence                            5.250000\n",
      "Real Estate                                    5.207500\n",
      "Media & Communication                          4.598400\n",
      "Healthcare                                     4.375000\n",
      "Transportation & Logistics                     2.500000\n",
      "Revenue\n",
      "                                  avg_salary\n",
      "Revenue                                     \n",
      "$500 million to $1 billion (USD)    7.003000\n",
      "$100 to $500 million (USD)          6.687632\n",
      "$5 to $10 billion (USD)             6.681818\n",
      "$1 to $5 million (USD)              6.643478\n",
      "na                                  6.340935\n",
      "$10+ billion (USD)                  6.301961\n",
      "-1                                  5.669701\n",
      "$2 to $5 billion (USD)              5.501538\n",
      "$5 to $25 million (USD)             5.383913\n",
      "Less than $1 million (USD)          5.280000\n",
      "$25 to $50 million (USD)            5.211373\n",
      "employer_provided\n",
      "                   avg_salary\n",
      "employer_provided            \n",
      "1                    8.266171\n",
      "0                    5.640670\n",
      "python\n",
      "        avg_salary\n",
      "python            \n",
      "1         6.698400\n",
      "0         5.706241\n",
      "R\n",
      "   avg_salary\n",
      "R            \n",
      "0    6.178158\n",
      "spark\n",
      "       avg_salary\n",
      "spark            \n",
      "1        6.642985\n",
      "0        6.125373\n",
      "aws\n",
      "     avg_salary\n",
      "aws            \n",
      "1      6.604339\n",
      "0      6.106560\n",
      "excel\n",
      "       avg_salary\n",
      "excel            \n",
      "0        6.664085\n",
      "1        5.808177\n",
      "visualization\n",
      "               avg_salary\n",
      "visualization            \n",
      "1                6.563529\n",
      "0                6.077562\n",
      "ml\n",
      "    avg_salary\n",
      "ml            \n",
      "1     6.742857\n",
      "0     5.857399\n",
      "database\n",
      "          avg_salary\n",
      "database            \n",
      "1           6.233051\n",
      "0           6.159674\n",
      "pipelines\n",
      "           avg_salary\n",
      "pipelines            \n",
      "1            7.036264\n",
      "0            6.114309\n",
      "cloud\n",
      "       avg_salary\n",
      "cloud            \n",
      "1        6.782661\n",
      "0        6.037523\n",
      "security\n",
      "          avg_salary\n",
      "security            \n",
      "0            6.19386\n",
      "1            6.02880\n",
      "sql\n",
      "     avg_salary\n",
      "sql            \n",
      "0      6.180248\n",
      "1      6.174843\n",
      "etl\n",
      "     avg_salary\n",
      "etl            \n",
      "1      6.460638\n",
      "0      6.156393\n",
      "azure\n",
      "       avg_salary\n",
      "azure            \n",
      "1        7.288000\n",
      "0        6.056301\n",
      "hadoop\n",
      "        avg_salary\n",
      "hadoop            \n",
      "1         6.705479\n",
      "0         6.147139\n",
      "mlops\n",
      "       avg_salary\n",
      "mlops            \n",
      "1        7.813333\n",
      "0        6.139953\n",
      "flask\n",
      "       avg_salary\n",
      "flask            \n",
      "0        6.190278\n",
      "1        5.305556\n",
      "django\n",
      "        avg_salary\n",
      "django            \n",
      "0         6.188444\n",
      "1         5.343750\n",
      "apache\n",
      "        avg_salary\n",
      "apache            \n",
      "0         6.189104\n",
      "1         5.470000\n",
      "avg_salary\n"
     ]
    },
    {
     "ename": "ValueError",
     "evalue": "Grouper for 'avg_salary' not 1-dimensional",
     "output_type": "error",
     "traceback": [
      "\u001b[1;31m---------------------------------------------------------------------------\u001b[0m",
      "\u001b[1;31mValueError\u001b[0m                                Traceback (most recent call last)",
      "Input \u001b[1;32mIn [39]\u001b[0m, in \u001b[0;36m<module>\u001b[1;34m\u001b[0m\n\u001b[0;32m      1\u001b[0m \u001b[38;5;28;01mfor\u001b[39;00m i \u001b[38;5;129;01min\u001b[39;00m df_pivots\u001b[38;5;241m.\u001b[39mcolumns:\n\u001b[0;32m      2\u001b[0m     \u001b[38;5;28mprint\u001b[39m(i)\n\u001b[1;32m----> 3\u001b[0m     \u001b[38;5;28mprint\u001b[39m(\u001b[43mpd\u001b[49m\u001b[38;5;241;43m.\u001b[39;49m\u001b[43mpivot_table\u001b[49m\u001b[43m(\u001b[49m\u001b[43mdf\u001b[49m\u001b[43m,\u001b[49m\u001b[43m \u001b[49m\u001b[43mindex\u001b[49m\u001b[43m \u001b[49m\u001b[38;5;241;43m=\u001b[39;49m\u001b[43m \u001b[49m\u001b[43mi\u001b[49m\u001b[43m,\u001b[49m\u001b[43m \u001b[49m\u001b[43mvalues\u001b[49m\u001b[43m \u001b[49m\u001b[38;5;241;43m=\u001b[39;49m\u001b[43m \u001b[49m\u001b[38;5;124;43m'\u001b[39;49m\u001b[38;5;124;43mavg_salary\u001b[39;49m\u001b[38;5;124;43m'\u001b[39;49m\u001b[43m)\u001b[49m\u001b[38;5;241m.\u001b[39msort_values(\u001b[38;5;124m'\u001b[39m\u001b[38;5;124mavg_salary\u001b[39m\u001b[38;5;124m'\u001b[39m, ascending \u001b[38;5;241m=\u001b[39m \u001b[38;5;28;01mFalse\u001b[39;00m))\n",
      "File \u001b[1;32mc:\\users\\miral\\appdata\\local\\programs\\python\\python39\\lib\\site-packages\\pandas\\core\\reshape\\pivot.py:95\u001b[0m, in \u001b[0;36mpivot_table\u001b[1;34m(data, values, index, columns, aggfunc, fill_value, margins, dropna, margins_name, observed, sort)\u001b[0m\n\u001b[0;32m     92\u001b[0m     table \u001b[38;5;241m=\u001b[39m concat(pieces, keys\u001b[38;5;241m=\u001b[39mkeys, axis\u001b[38;5;241m=\u001b[39m\u001b[38;5;241m1\u001b[39m)\n\u001b[0;32m     93\u001b[0m     \u001b[38;5;28;01mreturn\u001b[39;00m table\u001b[38;5;241m.\u001b[39m__finalize__(data, method\u001b[38;5;241m=\u001b[39m\u001b[38;5;124m\"\u001b[39m\u001b[38;5;124mpivot_table\u001b[39m\u001b[38;5;124m\"\u001b[39m)\n\u001b[1;32m---> 95\u001b[0m table \u001b[38;5;241m=\u001b[39m \u001b[43m__internal_pivot_table\u001b[49m\u001b[43m(\u001b[49m\n\u001b[0;32m     96\u001b[0m \u001b[43m    \u001b[49m\u001b[43mdata\u001b[49m\u001b[43m,\u001b[49m\n\u001b[0;32m     97\u001b[0m \u001b[43m    \u001b[49m\u001b[43mvalues\u001b[49m\u001b[43m,\u001b[49m\n\u001b[0;32m     98\u001b[0m \u001b[43m    \u001b[49m\u001b[43mindex\u001b[49m\u001b[43m,\u001b[49m\n\u001b[0;32m     99\u001b[0m \u001b[43m    \u001b[49m\u001b[43mcolumns\u001b[49m\u001b[43m,\u001b[49m\n\u001b[0;32m    100\u001b[0m \u001b[43m    \u001b[49m\u001b[43maggfunc\u001b[49m\u001b[43m,\u001b[49m\n\u001b[0;32m    101\u001b[0m \u001b[43m    \u001b[49m\u001b[43mfill_value\u001b[49m\u001b[43m,\u001b[49m\n\u001b[0;32m    102\u001b[0m \u001b[43m    \u001b[49m\u001b[43mmargins\u001b[49m\u001b[43m,\u001b[49m\n\u001b[0;32m    103\u001b[0m \u001b[43m    \u001b[49m\u001b[43mdropna\u001b[49m\u001b[43m,\u001b[49m\n\u001b[0;32m    104\u001b[0m \u001b[43m    \u001b[49m\u001b[43mmargins_name\u001b[49m\u001b[43m,\u001b[49m\n\u001b[0;32m    105\u001b[0m \u001b[43m    \u001b[49m\u001b[43mobserved\u001b[49m\u001b[43m,\u001b[49m\n\u001b[0;32m    106\u001b[0m \u001b[43m    \u001b[49m\u001b[43msort\u001b[49m\u001b[43m,\u001b[49m\n\u001b[0;32m    107\u001b[0m \u001b[43m\u001b[49m\u001b[43m)\u001b[49m\n\u001b[0;32m    108\u001b[0m \u001b[38;5;28;01mreturn\u001b[39;00m table\u001b[38;5;241m.\u001b[39m__finalize__(data, method\u001b[38;5;241m=\u001b[39m\u001b[38;5;124m\"\u001b[39m\u001b[38;5;124mpivot_table\u001b[39m\u001b[38;5;124m\"\u001b[39m)\n",
      "File \u001b[1;32mc:\\users\\miral\\appdata\\local\\programs\\python\\python39\\lib\\site-packages\\pandas\\core\\reshape\\pivot.py:164\u001b[0m, in \u001b[0;36m__internal_pivot_table\u001b[1;34m(data, values, index, columns, aggfunc, fill_value, margins, dropna, margins_name, observed, sort)\u001b[0m\n\u001b[0;32m    161\u001b[0m             \u001b[38;5;28;01mpass\u001b[39;00m\n\u001b[0;32m    162\u001b[0m     values \u001b[38;5;241m=\u001b[39m \u001b[38;5;28mlist\u001b[39m(values)\n\u001b[1;32m--> 164\u001b[0m grouped \u001b[38;5;241m=\u001b[39m \u001b[43mdata\u001b[49m\u001b[38;5;241;43m.\u001b[39;49m\u001b[43mgroupby\u001b[49m\u001b[43m(\u001b[49m\u001b[43mkeys\u001b[49m\u001b[43m,\u001b[49m\u001b[43m \u001b[49m\u001b[43mobserved\u001b[49m\u001b[38;5;241;43m=\u001b[39;49m\u001b[43mobserved\u001b[49m\u001b[43m,\u001b[49m\u001b[43m \u001b[49m\u001b[43msort\u001b[49m\u001b[38;5;241;43m=\u001b[39;49m\u001b[43msort\u001b[49m\u001b[43m)\u001b[49m\n\u001b[0;32m    165\u001b[0m agged \u001b[38;5;241m=\u001b[39m grouped\u001b[38;5;241m.\u001b[39magg(aggfunc)\n\u001b[0;32m    166\u001b[0m \u001b[38;5;28;01mif\u001b[39;00m dropna \u001b[38;5;129;01mand\u001b[39;00m \u001b[38;5;28misinstance\u001b[39m(agged, ABCDataFrame) \u001b[38;5;129;01mand\u001b[39;00m \u001b[38;5;28mlen\u001b[39m(agged\u001b[38;5;241m.\u001b[39mcolumns):\n",
      "File \u001b[1;32mc:\\users\\miral\\appdata\\local\\programs\\python\\python39\\lib\\site-packages\\pandas\\core\\frame.py:7714\u001b[0m, in \u001b[0;36mDataFrame.groupby\u001b[1;34m(self, by, axis, level, as_index, sort, group_keys, squeeze, observed, dropna)\u001b[0m\n\u001b[0;32m   7709\u001b[0m axis \u001b[38;5;241m=\u001b[39m \u001b[38;5;28mself\u001b[39m\u001b[38;5;241m.\u001b[39m_get_axis_number(axis)\n\u001b[0;32m   7711\u001b[0m \u001b[38;5;66;03m# https://github.com/python/mypy/issues/7642\u001b[39;00m\n\u001b[0;32m   7712\u001b[0m \u001b[38;5;66;03m# error: Argument \"squeeze\" to \"DataFrameGroupBy\" has incompatible type\u001b[39;00m\n\u001b[0;32m   7713\u001b[0m \u001b[38;5;66;03m# \"Union[bool, NoDefault]\"; expected \"bool\"\u001b[39;00m\n\u001b[1;32m-> 7714\u001b[0m \u001b[38;5;28;01mreturn\u001b[39;00m \u001b[43mDataFrameGroupBy\u001b[49m\u001b[43m(\u001b[49m\n\u001b[0;32m   7715\u001b[0m \u001b[43m    \u001b[49m\u001b[43mobj\u001b[49m\u001b[38;5;241;43m=\u001b[39;49m\u001b[38;5;28;43mself\u001b[39;49m\u001b[43m,\u001b[49m\n\u001b[0;32m   7716\u001b[0m \u001b[43m    \u001b[49m\u001b[43mkeys\u001b[49m\u001b[38;5;241;43m=\u001b[39;49m\u001b[43mby\u001b[49m\u001b[43m,\u001b[49m\n\u001b[0;32m   7717\u001b[0m \u001b[43m    \u001b[49m\u001b[43maxis\u001b[49m\u001b[38;5;241;43m=\u001b[39;49m\u001b[43maxis\u001b[49m\u001b[43m,\u001b[49m\n\u001b[0;32m   7718\u001b[0m \u001b[43m    \u001b[49m\u001b[43mlevel\u001b[49m\u001b[38;5;241;43m=\u001b[39;49m\u001b[43mlevel\u001b[49m\u001b[43m,\u001b[49m\n\u001b[0;32m   7719\u001b[0m \u001b[43m    \u001b[49m\u001b[43mas_index\u001b[49m\u001b[38;5;241;43m=\u001b[39;49m\u001b[43mas_index\u001b[49m\u001b[43m,\u001b[49m\n\u001b[0;32m   7720\u001b[0m \u001b[43m    \u001b[49m\u001b[43msort\u001b[49m\u001b[38;5;241;43m=\u001b[39;49m\u001b[43msort\u001b[49m\u001b[43m,\u001b[49m\n\u001b[0;32m   7721\u001b[0m \u001b[43m    \u001b[49m\u001b[43mgroup_keys\u001b[49m\u001b[38;5;241;43m=\u001b[39;49m\u001b[43mgroup_keys\u001b[49m\u001b[43m,\u001b[49m\n\u001b[0;32m   7722\u001b[0m \u001b[43m    \u001b[49m\u001b[43msqueeze\u001b[49m\u001b[38;5;241;43m=\u001b[39;49m\u001b[43msqueeze\u001b[49m\u001b[43m,\u001b[49m\u001b[43m  \u001b[49m\u001b[38;5;66;43;03m# type: ignore[arg-type]\u001b[39;49;00m\n\u001b[0;32m   7723\u001b[0m \u001b[43m    \u001b[49m\u001b[43mobserved\u001b[49m\u001b[38;5;241;43m=\u001b[39;49m\u001b[43mobserved\u001b[49m\u001b[43m,\u001b[49m\n\u001b[0;32m   7724\u001b[0m \u001b[43m    \u001b[49m\u001b[43mdropna\u001b[49m\u001b[38;5;241;43m=\u001b[39;49m\u001b[43mdropna\u001b[49m\u001b[43m,\u001b[49m\n\u001b[0;32m   7725\u001b[0m \u001b[43m\u001b[49m\u001b[43m)\u001b[49m\n",
      "File \u001b[1;32mc:\\users\\miral\\appdata\\local\\programs\\python\\python39\\lib\\site-packages\\pandas\\core\\groupby\\groupby.py:882\u001b[0m, in \u001b[0;36mGroupBy.__init__\u001b[1;34m(self, obj, keys, axis, level, grouper, exclusions, selection, as_index, sort, group_keys, squeeze, observed, mutated, dropna)\u001b[0m\n\u001b[0;32m    879\u001b[0m \u001b[38;5;28;01mif\u001b[39;00m grouper \u001b[38;5;129;01mis\u001b[39;00m \u001b[38;5;28;01mNone\u001b[39;00m:\n\u001b[0;32m    880\u001b[0m     \u001b[38;5;28;01mfrom\u001b[39;00m \u001b[38;5;21;01mpandas\u001b[39;00m\u001b[38;5;21;01m.\u001b[39;00m\u001b[38;5;21;01mcore\u001b[39;00m\u001b[38;5;21;01m.\u001b[39;00m\u001b[38;5;21;01mgroupby\u001b[39;00m\u001b[38;5;21;01m.\u001b[39;00m\u001b[38;5;21;01mgrouper\u001b[39;00m \u001b[38;5;28;01mimport\u001b[39;00m get_grouper\n\u001b[1;32m--> 882\u001b[0m     grouper, exclusions, obj \u001b[38;5;241m=\u001b[39m \u001b[43mget_grouper\u001b[49m\u001b[43m(\u001b[49m\n\u001b[0;32m    883\u001b[0m \u001b[43m        \u001b[49m\u001b[43mobj\u001b[49m\u001b[43m,\u001b[49m\n\u001b[0;32m    884\u001b[0m \u001b[43m        \u001b[49m\u001b[43mkeys\u001b[49m\u001b[43m,\u001b[49m\n\u001b[0;32m    885\u001b[0m \u001b[43m        \u001b[49m\u001b[43maxis\u001b[49m\u001b[38;5;241;43m=\u001b[39;49m\u001b[43maxis\u001b[49m\u001b[43m,\u001b[49m\n\u001b[0;32m    886\u001b[0m \u001b[43m        \u001b[49m\u001b[43mlevel\u001b[49m\u001b[38;5;241;43m=\u001b[39;49m\u001b[43mlevel\u001b[49m\u001b[43m,\u001b[49m\n\u001b[0;32m    887\u001b[0m \u001b[43m        \u001b[49m\u001b[43msort\u001b[49m\u001b[38;5;241;43m=\u001b[39;49m\u001b[43msort\u001b[49m\u001b[43m,\u001b[49m\n\u001b[0;32m    888\u001b[0m \u001b[43m        \u001b[49m\u001b[43mobserved\u001b[49m\u001b[38;5;241;43m=\u001b[39;49m\u001b[43mobserved\u001b[49m\u001b[43m,\u001b[49m\n\u001b[0;32m    889\u001b[0m \u001b[43m        \u001b[49m\u001b[43mmutated\u001b[49m\u001b[38;5;241;43m=\u001b[39;49m\u001b[38;5;28;43mself\u001b[39;49m\u001b[38;5;241;43m.\u001b[39;49m\u001b[43mmutated\u001b[49m\u001b[43m,\u001b[49m\n\u001b[0;32m    890\u001b[0m \u001b[43m        \u001b[49m\u001b[43mdropna\u001b[49m\u001b[38;5;241;43m=\u001b[39;49m\u001b[38;5;28;43mself\u001b[39;49m\u001b[38;5;241;43m.\u001b[39;49m\u001b[43mdropna\u001b[49m\u001b[43m,\u001b[49m\n\u001b[0;32m    891\u001b[0m \u001b[43m    \u001b[49m\u001b[43m)\u001b[49m\n\u001b[0;32m    893\u001b[0m \u001b[38;5;28mself\u001b[39m\u001b[38;5;241m.\u001b[39mobj \u001b[38;5;241m=\u001b[39m obj\n\u001b[0;32m    894\u001b[0m \u001b[38;5;28mself\u001b[39m\u001b[38;5;241m.\u001b[39maxis \u001b[38;5;241m=\u001b[39m obj\u001b[38;5;241m.\u001b[39m_get_axis_number(axis)\n",
      "File \u001b[1;32mc:\\users\\miral\\appdata\\local\\programs\\python\\python39\\lib\\site-packages\\pandas\\core\\groupby\\grouper.py:877\u001b[0m, in \u001b[0;36mget_grouper\u001b[1;34m(obj, key, axis, level, sort, observed, mutated, validate, dropna)\u001b[0m\n\u001b[0;32m    873\u001b[0m     in_axis, name, gpr \u001b[38;5;241m=\u001b[39m \u001b[38;5;28;01mTrue\u001b[39;00m, gpr, obj[gpr]\n\u001b[0;32m    874\u001b[0m     \u001b[38;5;28;01mif\u001b[39;00m gpr\u001b[38;5;241m.\u001b[39mndim \u001b[38;5;241m!=\u001b[39m \u001b[38;5;241m1\u001b[39m:\n\u001b[0;32m    875\u001b[0m         \u001b[38;5;66;03m# non-unique columns; raise here to get the name in the\u001b[39;00m\n\u001b[0;32m    876\u001b[0m         \u001b[38;5;66;03m# exception message\u001b[39;00m\n\u001b[1;32m--> 877\u001b[0m         \u001b[38;5;28;01mraise\u001b[39;00m \u001b[38;5;167;01mValueError\u001b[39;00m(\u001b[38;5;124mf\u001b[39m\u001b[38;5;124m\"\u001b[39m\u001b[38;5;124mGrouper for \u001b[39m\u001b[38;5;124m'\u001b[39m\u001b[38;5;132;01m{\u001b[39;00mname\u001b[38;5;132;01m}\u001b[39;00m\u001b[38;5;124m'\u001b[39m\u001b[38;5;124m not 1-dimensional\u001b[39m\u001b[38;5;124m\"\u001b[39m)\n\u001b[0;32m    878\u001b[0m     exclusions\u001b[38;5;241m.\u001b[39madd(name)\n\u001b[0;32m    879\u001b[0m \u001b[38;5;28;01melif\u001b[39;00m obj\u001b[38;5;241m.\u001b[39m_is_level_reference(gpr, axis\u001b[38;5;241m=\u001b[39maxis):\n",
      "\u001b[1;31mValueError\u001b[0m: Grouper for 'avg_salary' not 1-dimensional"
     ]
    }
   ],
   "source": [
    "for i in df_pivots.columns:\n",
    "    print(i)\n",
    "    print(pd.pivot_table(df, index = i, values = 'avg_salary').sort_values('avg_salary', ascending = False))"
   ]
  },
  {
   "cell_type": "code",
   "execution_count": 40,
   "id": "b4fc6814",
   "metadata": {},
   "outputs": [
    {
     "data": {
      "text/html": [
       "<div>\n",
       "<style scoped>\n",
       "    .dataframe tbody tr th:only-of-type {\n",
       "        vertical-align: middle;\n",
       "    }\n",
       "\n",
       "    .dataframe tbody tr th {\n",
       "        vertical-align: top;\n",
       "    }\n",
       "\n",
       "    .dataframe thead th {\n",
       "        text-align: right;\n",
       "    }\n",
       "</style>\n",
       "<table border=\"1\" class=\"dataframe\">\n",
       "  <thead>\n",
       "    <tr style=\"text-align: right;\">\n",
       "      <th>python</th>\n",
       "      <th>0</th>\n",
       "      <th>1</th>\n",
       "    </tr>\n",
       "    <tr>\n",
       "      <th>Revenue</th>\n",
       "      <th></th>\n",
       "      <th></th>\n",
       "    </tr>\n",
       "  </thead>\n",
       "  <tbody>\n",
       "    <tr>\n",
       "      <th>$1 to $5 million (USD)</th>\n",
       "      <td>9</td>\n",
       "      <td>14</td>\n",
       "    </tr>\n",
       "    <tr>\n",
       "      <th>$10+ billion (USD)</th>\n",
       "      <td>134</td>\n",
       "      <td>121</td>\n",
       "    </tr>\n",
       "    <tr>\n",
       "      <th>$100 to $500 million (USD)</th>\n",
       "      <td>32</td>\n",
       "      <td>44</td>\n",
       "    </tr>\n",
       "    <tr>\n",
       "      <th>$2 to $5 billion (USD)</th>\n",
       "      <td>24</td>\n",
       "      <td>28</td>\n",
       "    </tr>\n",
       "    <tr>\n",
       "      <th>$25 to $50 million (USD)</th>\n",
       "      <td>24</td>\n",
       "      <td>27</td>\n",
       "    </tr>\n",
       "    <tr>\n",
       "      <th>$5 to $10 billion (USD)</th>\n",
       "      <td>21</td>\n",
       "      <td>12</td>\n",
       "    </tr>\n",
       "    <tr>\n",
       "      <th>$5 to $25 million (USD)</th>\n",
       "      <td>29</td>\n",
       "      <td>17</td>\n",
       "    </tr>\n",
       "    <tr>\n",
       "      <th>$500 million to $1 billion (USD)</th>\n",
       "      <td>6</td>\n",
       "      <td>14</td>\n",
       "    </tr>\n",
       "    <tr>\n",
       "      <th>-1</th>\n",
       "      <td>96</td>\n",
       "      <td>38</td>\n",
       "    </tr>\n",
       "    <tr>\n",
       "      <th>Less than $1 million (USD)</th>\n",
       "      <td>9</td>\n",
       "      <td>16</td>\n",
       "    </tr>\n",
       "    <tr>\n",
       "      <th>na</th>\n",
       "      <td>305</td>\n",
       "      <td>294</td>\n",
       "    </tr>\n",
       "  </tbody>\n",
       "</table>\n",
       "</div>"
      ],
      "text/plain": [
       "python                              0    1\n",
       "Revenue                                   \n",
       "$1 to $5 million (USD)              9   14\n",
       "$10+ billion (USD)                134  121\n",
       "$100 to $500 million (USD)         32   44\n",
       "$2 to $5 billion (USD)             24   28\n",
       "$25 to $50 million (USD)           24   27\n",
       "$5 to $10 billion (USD)            21   12\n",
       "$5 to $25 million (USD)            29   17\n",
       "$500 million to $1 billion (USD)    6   14\n",
       "-1                                 96   38\n",
       "Less than $1 million (USD)          9   16\n",
       "na                                305  294"
      ]
     },
     "execution_count": 40,
     "metadata": {},
     "output_type": "execute_result"
    }
   ],
   "source": [
    "pd.pivot_table(df_pivots, index = 'Revenue', columns = 'python', values = 'avg_salary', aggfunc = 'count')"
   ]
  },
  {
   "cell_type": "code",
   "execution_count": null,
   "id": "0c0d006a",
   "metadata": {},
   "outputs": [],
   "source": [
    "df.shape"
   ]
  },
  {
   "cell_type": "code",
   "execution_count": null,
   "id": "9469a54f",
   "metadata": {},
   "outputs": [],
   "source": [
    "#df.to_csv('EDA_data.csv', index = False)"
   ]
  },
  {
   "cell_type": "code",
   "execution_count": null,
   "id": "03b181b0",
   "metadata": {},
   "outputs": [],
   "source": []
  }
 ],
 "metadata": {
  "kernelspec": {
   "display_name": "Python 3 (ipykernel)",
   "language": "python",
   "name": "python3"
  },
  "language_info": {
   "codemirror_mode": {
    "name": "ipython",
    "version": 3
   },
   "file_extension": ".py",
   "mimetype": "text/x-python",
   "name": "python",
   "nbconvert_exporter": "python",
   "pygments_lexer": "ipython3",
   "version": "3.9.5"
  }
 },
 "nbformat": 4,
 "nbformat_minor": 5
}
